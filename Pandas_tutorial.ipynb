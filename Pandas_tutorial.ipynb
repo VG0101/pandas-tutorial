{
 "cells": [
  {
   "cell_type": "code",
   "execution_count": 4,
   "id": "bad93b07-1c13-4473-bf64-24b12ce4142d",
   "metadata": {},
   "outputs": [],
   "source": [
    "import pandas as pd\n",
    "import numpy as np"
   ]
  },
  {
   "cell_type": "code",
   "execution_count": 5,
   "id": "979e0317-135b-4cf5-88e8-d4606c6b9c4c",
   "metadata": {},
   "outputs": [],
   "source": [
    " dict1 = {\n",
    "     \"name\":['harry', 'rohan', 'skillf', 'shubh'],\n",
    "     \"marks\":[92, 34, 24, 17],\n",
    "     \"city\":['rampur', 'beijing', 'kolkata', 'shimla']\n",
    " }"
   ]
  },
  {
   "cell_type": "code",
   "execution_count": 6,
   "id": "93f63412-f093-47a4-aeac-fd00ff7e4775",
   "metadata": {},
   "outputs": [],
   "source": [
    "df = pd.DataFrame(dict1)"
   ]
  },
  {
   "cell_type": "code",
   "execution_count": 7,
   "id": "c345beea-7a7d-4e8c-9cb6-3366a9c7858e",
   "metadata": {},
   "outputs": [
    {
     "data": {
      "text/html": [
       "<div>\n",
       "<style scoped>\n",
       "    .dataframe tbody tr th:only-of-type {\n",
       "        vertical-align: middle;\n",
       "    }\n",
       "\n",
       "    .dataframe tbody tr th {\n",
       "        vertical-align: top;\n",
       "    }\n",
       "\n",
       "    .dataframe thead th {\n",
       "        text-align: right;\n",
       "    }\n",
       "</style>\n",
       "<table border=\"1\" class=\"dataframe\">\n",
       "  <thead>\n",
       "    <tr style=\"text-align: right;\">\n",
       "      <th></th>\n",
       "      <th>name</th>\n",
       "      <th>marks</th>\n",
       "      <th>city</th>\n",
       "    </tr>\n",
       "  </thead>\n",
       "  <tbody>\n",
       "    <tr>\n",
       "      <th>0</th>\n",
       "      <td>harry</td>\n",
       "      <td>92</td>\n",
       "      <td>rampur</td>\n",
       "    </tr>\n",
       "    <tr>\n",
       "      <th>1</th>\n",
       "      <td>rohan</td>\n",
       "      <td>34</td>\n",
       "      <td>beijing</td>\n",
       "    </tr>\n",
       "    <tr>\n",
       "      <th>2</th>\n",
       "      <td>skillf</td>\n",
       "      <td>24</td>\n",
       "      <td>kolkata</td>\n",
       "    </tr>\n",
       "    <tr>\n",
       "      <th>3</th>\n",
       "      <td>shubh</td>\n",
       "      <td>17</td>\n",
       "      <td>shimla</td>\n",
       "    </tr>\n",
       "  </tbody>\n",
       "</table>\n",
       "</div>"
      ],
      "text/plain": [
       "     name  marks     city\n",
       "0   harry     92   rampur\n",
       "1   rohan     34  beijing\n",
       "2  skillf     24  kolkata\n",
       "3   shubh     17   shimla"
      ]
     },
     "execution_count": 7,
     "metadata": {},
     "output_type": "execute_result"
    }
   ],
   "source": [
    "df"
   ]
  },
  {
   "cell_type": "code",
   "execution_count": 8,
   "id": "bbb71c02-f420-4718-a8cb-6cb354d669fa",
   "metadata": {},
   "outputs": [],
   "source": [
    "df.to_csv(' friends.csv')"
   ]
  },
  {
   "cell_type": "code",
   "execution_count": 9,
   "id": "28d914b6-d2fe-47b9-a15c-d8198b96932f",
   "metadata": {},
   "outputs": [],
   "source": [
    "df.to_csv('friends_index_friends.csv', index=False)"
   ]
  },
  {
   "cell_type": "code",
   "execution_count": 10,
   "id": "bdc0b46d-20fa-4d28-bb69-247d88a30be3",
   "metadata": {},
   "outputs": [
    {
     "data": {
      "text/html": [
       "<div>\n",
       "<style scoped>\n",
       "    .dataframe tbody tr th:only-of-type {\n",
       "        vertical-align: middle;\n",
       "    }\n",
       "\n",
       "    .dataframe tbody tr th {\n",
       "        vertical-align: top;\n",
       "    }\n",
       "\n",
       "    .dataframe thead th {\n",
       "        text-align: right;\n",
       "    }\n",
       "</style>\n",
       "<table border=\"1\" class=\"dataframe\">\n",
       "  <thead>\n",
       "    <tr style=\"text-align: right;\">\n",
       "      <th></th>\n",
       "      <th>name</th>\n",
       "      <th>marks</th>\n",
       "      <th>city</th>\n",
       "    </tr>\n",
       "  </thead>\n",
       "  <tbody>\n",
       "    <tr>\n",
       "      <th>0</th>\n",
       "      <td>harry</td>\n",
       "      <td>92</td>\n",
       "      <td>rampur</td>\n",
       "    </tr>\n",
       "    <tr>\n",
       "      <th>1</th>\n",
       "      <td>rohan</td>\n",
       "      <td>34</td>\n",
       "      <td>beijing</td>\n",
       "    </tr>\n",
       "  </tbody>\n",
       "</table>\n",
       "</div>"
      ],
      "text/plain": [
       "    name  marks     city\n",
       "0  harry     92   rampur\n",
       "1  rohan     34  beijing"
      ]
     },
     "execution_count": 10,
     "metadata": {},
     "output_type": "execute_result"
    }
   ],
   "source": [
    "df.head(2)"
   ]
  },
  {
   "cell_type": "code",
   "execution_count": 11,
   "id": "ac6ea5d1-b6f3-4175-a73b-e9b49201ab0c",
   "metadata": {},
   "outputs": [
    {
     "data": {
      "text/html": [
       "<div>\n",
       "<style scoped>\n",
       "    .dataframe tbody tr th:only-of-type {\n",
       "        vertical-align: middle;\n",
       "    }\n",
       "\n",
       "    .dataframe tbody tr th {\n",
       "        vertical-align: top;\n",
       "    }\n",
       "\n",
       "    .dataframe thead th {\n",
       "        text-align: right;\n",
       "    }\n",
       "</style>\n",
       "<table border=\"1\" class=\"dataframe\">\n",
       "  <thead>\n",
       "    <tr style=\"text-align: right;\">\n",
       "      <th></th>\n",
       "      <th>marks</th>\n",
       "    </tr>\n",
       "  </thead>\n",
       "  <tbody>\n",
       "    <tr>\n",
       "      <th>count</th>\n",
       "      <td>4.00000</td>\n",
       "    </tr>\n",
       "    <tr>\n",
       "      <th>mean</th>\n",
       "      <td>41.75000</td>\n",
       "    </tr>\n",
       "    <tr>\n",
       "      <th>std</th>\n",
       "      <td>34.21866</td>\n",
       "    </tr>\n",
       "    <tr>\n",
       "      <th>min</th>\n",
       "      <td>17.00000</td>\n",
       "    </tr>\n",
       "    <tr>\n",
       "      <th>25%</th>\n",
       "      <td>22.25000</td>\n",
       "    </tr>\n",
       "    <tr>\n",
       "      <th>50%</th>\n",
       "      <td>29.00000</td>\n",
       "    </tr>\n",
       "    <tr>\n",
       "      <th>75%</th>\n",
       "      <td>48.50000</td>\n",
       "    </tr>\n",
       "    <tr>\n",
       "      <th>max</th>\n",
       "      <td>92.00000</td>\n",
       "    </tr>\n",
       "  </tbody>\n",
       "</table>\n",
       "</div>"
      ],
      "text/plain": [
       "          marks\n",
       "count   4.00000\n",
       "mean   41.75000\n",
       "std    34.21866\n",
       "min    17.00000\n",
       "25%    22.25000\n",
       "50%    29.00000\n",
       "75%    48.50000\n",
       "max    92.00000"
      ]
     },
     "execution_count": 11,
     "metadata": {},
     "output_type": "execute_result"
    }
   ],
   "source": [
    "df.describe()"
   ]
  },
  {
   "cell_type": "code",
   "execution_count": 12,
   "id": "e4403a49-78c8-4b0a-b4be-55b4551b98a0",
   "metadata": {},
   "outputs": [],
   "source": [
    "import os\n",
    "os.chdir(r'C:\\Users\\vaibh\\pandas')"
   ]
  },
  {
   "cell_type": "code",
   "execution_count": 13,
   "id": "a27b8046-26c4-4b8b-891e-ea034bd0469b",
   "metadata": {},
   "outputs": [],
   "source": [
    "vaib = pd.read_csv('vaibhav.csv')"
   ]
  },
  {
   "cell_type": "code",
   "execution_count": 14,
   "id": "324b196d-639b-49cf-8dd1-00634cac8d67",
   "metadata": {},
   "outputs": [
    {
     "data": {
      "text/html": [
       "<div>\n",
       "<style scoped>\n",
       "    .dataframe tbody tr th:only-of-type {\n",
       "        vertical-align: middle;\n",
       "    }\n",
       "\n",
       "    .dataframe tbody tr th {\n",
       "        vertical-align: top;\n",
       "    }\n",
       "\n",
       "    .dataframe thead th {\n",
       "        text-align: right;\n",
       "    }\n",
       "</style>\n",
       "<table border=\"1\" class=\"dataframe\">\n",
       "  <thead>\n",
       "    <tr style=\"text-align: right;\">\n",
       "      <th></th>\n",
       "      <th>Train No2</th>\n",
       "      <th>Speed2</th>\n",
       "      <th>city2</th>\n",
       "    </tr>\n",
       "  </thead>\n",
       "  <tbody>\n",
       "    <tr>\n",
       "      <th>0</th>\n",
       "      <td>23544</td>\n",
       "      <td>50</td>\n",
       "      <td>rampur</td>\n",
       "    </tr>\n",
       "    <tr>\n",
       "      <th>1</th>\n",
       "      <td>23546</td>\n",
       "      <td>43</td>\n",
       "      <td>kolkata</td>\n",
       "    </tr>\n",
       "    <tr>\n",
       "      <th>2</th>\n",
       "      <td>76874</td>\n",
       "      <td>129</td>\n",
       "      <td>bareilly</td>\n",
       "    </tr>\n",
       "    <tr>\n",
       "      <th>3</th>\n",
       "      <td>34567</td>\n",
       "      <td>230</td>\n",
       "      <td>antartica</td>\n",
       "    </tr>\n",
       "  </tbody>\n",
       "</table>\n",
       "</div>"
      ],
      "text/plain": [
       "   Train No2  Speed2      city2\n",
       "0      23544      50     rampur\n",
       "1      23546      43    kolkata\n",
       "2      76874     129   bareilly\n",
       "3      34567     230  antartica"
      ]
     },
     "execution_count": 14,
     "metadata": {},
     "output_type": "execute_result"
    }
   ],
   "source": [
    "vaib"
   ]
  },
  {
   "cell_type": "code",
   "execution_count": 15,
   "id": "b197bd2c-4f86-4227-8988-9fa0306fa4a1",
   "metadata": {},
   "outputs": [
    {
     "ename": "KeyError",
     "evalue": "'Speed'",
     "output_type": "error",
     "traceback": [
      "\u001b[1;31m---------------------------------------------------------------------------\u001b[0m",
      "\u001b[1;31mKeyError\u001b[0m                                  Traceback (most recent call last)",
      "File \u001b[1;32m~\\AppData\\Local\\Programs\\Python\\Python311\\Lib\\site-packages\\pandas\\core\\indexes\\base.py:3805\u001b[0m, in \u001b[0;36mIndex.get_loc\u001b[1;34m(self, key)\u001b[0m\n\u001b[0;32m   3804\u001b[0m \u001b[38;5;28;01mtry\u001b[39;00m:\n\u001b[1;32m-> 3805\u001b[0m     \u001b[38;5;28;01mreturn\u001b[39;00m \u001b[38;5;28;43mself\u001b[39;49m\u001b[38;5;241;43m.\u001b[39;49m\u001b[43m_engine\u001b[49m\u001b[38;5;241;43m.\u001b[39;49m\u001b[43mget_loc\u001b[49m\u001b[43m(\u001b[49m\u001b[43mcasted_key\u001b[49m\u001b[43m)\u001b[49m\n\u001b[0;32m   3806\u001b[0m \u001b[38;5;28;01mexcept\u001b[39;00m \u001b[38;5;167;01mKeyError\u001b[39;00m \u001b[38;5;28;01mas\u001b[39;00m err:\n",
      "File \u001b[1;32mindex.pyx:167\u001b[0m, in \u001b[0;36mpandas._libs.index.IndexEngine.get_loc\u001b[1;34m()\u001b[0m\n",
      "File \u001b[1;32mindex.pyx:196\u001b[0m, in \u001b[0;36mpandas._libs.index.IndexEngine.get_loc\u001b[1;34m()\u001b[0m\n",
      "File \u001b[1;32mpandas\\\\_libs\\\\hashtable_class_helper.pxi:7081\u001b[0m, in \u001b[0;36mpandas._libs.hashtable.PyObjectHashTable.get_item\u001b[1;34m()\u001b[0m\n",
      "File \u001b[1;32mpandas\\\\_libs\\\\hashtable_class_helper.pxi:7089\u001b[0m, in \u001b[0;36mpandas._libs.hashtable.PyObjectHashTable.get_item\u001b[1;34m()\u001b[0m\n",
      "\u001b[1;31mKeyError\u001b[0m: 'Speed'",
      "\nThe above exception was the direct cause of the following exception:\n",
      "\u001b[1;31mKeyError\u001b[0m                                  Traceback (most recent call last)",
      "Cell \u001b[1;32mIn[15], line 1\u001b[0m\n\u001b[1;32m----> 1\u001b[0m \u001b[43mvaib\u001b[49m\u001b[43m[\u001b[49m\u001b[38;5;124;43m'\u001b[39;49m\u001b[38;5;124;43mSpeed\u001b[39;49m\u001b[38;5;124;43m'\u001b[39;49m\u001b[43m]\u001b[49m[\u001b[38;5;241m0\u001b[39m] \u001b[38;5;241m=\u001b[39m \u001b[38;5;241m50\u001b[39m\n",
      "File \u001b[1;32m~\\AppData\\Local\\Programs\\Python\\Python311\\Lib\\site-packages\\pandas\\core\\frame.py:4102\u001b[0m, in \u001b[0;36mDataFrame.__getitem__\u001b[1;34m(self, key)\u001b[0m\n\u001b[0;32m   4100\u001b[0m \u001b[38;5;28;01mif\u001b[39;00m \u001b[38;5;28mself\u001b[39m\u001b[38;5;241m.\u001b[39mcolumns\u001b[38;5;241m.\u001b[39mnlevels \u001b[38;5;241m>\u001b[39m \u001b[38;5;241m1\u001b[39m:\n\u001b[0;32m   4101\u001b[0m     \u001b[38;5;28;01mreturn\u001b[39;00m \u001b[38;5;28mself\u001b[39m\u001b[38;5;241m.\u001b[39m_getitem_multilevel(key)\n\u001b[1;32m-> 4102\u001b[0m indexer \u001b[38;5;241m=\u001b[39m \u001b[38;5;28;43mself\u001b[39;49m\u001b[38;5;241;43m.\u001b[39;49m\u001b[43mcolumns\u001b[49m\u001b[38;5;241;43m.\u001b[39;49m\u001b[43mget_loc\u001b[49m\u001b[43m(\u001b[49m\u001b[43mkey\u001b[49m\u001b[43m)\u001b[49m\n\u001b[0;32m   4103\u001b[0m \u001b[38;5;28;01mif\u001b[39;00m is_integer(indexer):\n\u001b[0;32m   4104\u001b[0m     indexer \u001b[38;5;241m=\u001b[39m [indexer]\n",
      "File \u001b[1;32m~\\AppData\\Local\\Programs\\Python\\Python311\\Lib\\site-packages\\pandas\\core\\indexes\\base.py:3812\u001b[0m, in \u001b[0;36mIndex.get_loc\u001b[1;34m(self, key)\u001b[0m\n\u001b[0;32m   3807\u001b[0m     \u001b[38;5;28;01mif\u001b[39;00m \u001b[38;5;28misinstance\u001b[39m(casted_key, \u001b[38;5;28mslice\u001b[39m) \u001b[38;5;129;01mor\u001b[39;00m (\n\u001b[0;32m   3808\u001b[0m         \u001b[38;5;28misinstance\u001b[39m(casted_key, abc\u001b[38;5;241m.\u001b[39mIterable)\n\u001b[0;32m   3809\u001b[0m         \u001b[38;5;129;01mand\u001b[39;00m \u001b[38;5;28many\u001b[39m(\u001b[38;5;28misinstance\u001b[39m(x, \u001b[38;5;28mslice\u001b[39m) \u001b[38;5;28;01mfor\u001b[39;00m x \u001b[38;5;129;01min\u001b[39;00m casted_key)\n\u001b[0;32m   3810\u001b[0m     ):\n\u001b[0;32m   3811\u001b[0m         \u001b[38;5;28;01mraise\u001b[39;00m InvalidIndexError(key)\n\u001b[1;32m-> 3812\u001b[0m     \u001b[38;5;28;01mraise\u001b[39;00m \u001b[38;5;167;01mKeyError\u001b[39;00m(key) \u001b[38;5;28;01mfrom\u001b[39;00m \u001b[38;5;21;01merr\u001b[39;00m\n\u001b[0;32m   3813\u001b[0m \u001b[38;5;28;01mexcept\u001b[39;00m \u001b[38;5;167;01mTypeError\u001b[39;00m:\n\u001b[0;32m   3814\u001b[0m     \u001b[38;5;66;03m# If we have a listlike key, _check_indexing_error will raise\u001b[39;00m\n\u001b[0;32m   3815\u001b[0m     \u001b[38;5;66;03m#  InvalidIndexError. Otherwise we fall through and re-raise\u001b[39;00m\n\u001b[0;32m   3816\u001b[0m     \u001b[38;5;66;03m#  the TypeError.\u001b[39;00m\n\u001b[0;32m   3817\u001b[0m     \u001b[38;5;28mself\u001b[39m\u001b[38;5;241m.\u001b[39m_check_indexing_error(key)\n",
      "\u001b[1;31mKeyError\u001b[0m: 'Speed'"
     ]
    }
   ],
   "source": [
    "vaib['Speed'][0] = 50"
   ]
  },
  {
   "cell_type": "code",
   "execution_count": null,
   "id": "e6791526-b06b-48d6-96ec-333689e930c4",
   "metadata": {},
   "outputs": [],
   "source": [
    "vaib"
   ]
  },
  {
   "cell_type": "code",
   "execution_count": null,
   "id": "3f815227-9e42-4c7e-b7a9-ed9aec5fd65b",
   "metadata": {},
   "outputs": [],
   "source": [
    "vaib.to_csv('vaibhav.csv')"
   ]
  },
  {
   "cell_type": "code",
   "execution_count": 16,
   "id": "943dfd03-9b6b-4f03-9015-b7e7c03a7f0e",
   "metadata": {},
   "outputs": [],
   "source": [
    "vaib.index = ['first', 'second', 'third', 'fourth']"
   ]
  },
  {
   "cell_type": "code",
   "execution_count": 17,
   "id": "48d02662-ee5d-4206-8cfc-731902d42c59",
   "metadata": {},
   "outputs": [
    {
     "data": {
      "text/html": [
       "<div>\n",
       "<style scoped>\n",
       "    .dataframe tbody tr th:only-of-type {\n",
       "        vertical-align: middle;\n",
       "    }\n",
       "\n",
       "    .dataframe tbody tr th {\n",
       "        vertical-align: top;\n",
       "    }\n",
       "\n",
       "    .dataframe thead th {\n",
       "        text-align: right;\n",
       "    }\n",
       "</style>\n",
       "<table border=\"1\" class=\"dataframe\">\n",
       "  <thead>\n",
       "    <tr style=\"text-align: right;\">\n",
       "      <th></th>\n",
       "      <th>Train No2</th>\n",
       "      <th>Speed2</th>\n",
       "      <th>city2</th>\n",
       "    </tr>\n",
       "  </thead>\n",
       "  <tbody>\n",
       "    <tr>\n",
       "      <th>first</th>\n",
       "      <td>23544</td>\n",
       "      <td>50</td>\n",
       "      <td>rampur</td>\n",
       "    </tr>\n",
       "    <tr>\n",
       "      <th>second</th>\n",
       "      <td>23546</td>\n",
       "      <td>43</td>\n",
       "      <td>kolkata</td>\n",
       "    </tr>\n",
       "    <tr>\n",
       "      <th>third</th>\n",
       "      <td>76874</td>\n",
       "      <td>129</td>\n",
       "      <td>bareilly</td>\n",
       "    </tr>\n",
       "    <tr>\n",
       "      <th>fourth</th>\n",
       "      <td>34567</td>\n",
       "      <td>230</td>\n",
       "      <td>antartica</td>\n",
       "    </tr>\n",
       "  </tbody>\n",
       "</table>\n",
       "</div>"
      ],
      "text/plain": [
       "        Train No2  Speed2      city2\n",
       "first       23544      50     rampur\n",
       "second      23546      43    kolkata\n",
       "third       76874     129   bareilly\n",
       "fourth      34567     230  antartica"
      ]
     },
     "execution_count": 17,
     "metadata": {},
     "output_type": "execute_result"
    }
   ],
   "source": [
    "vaib"
   ]
  },
  {
   "cell_type": "code",
   "execution_count": 18,
   "id": "0aa123f7-98dc-4fad-ae11-2341b7957fea",
   "metadata": {},
   "outputs": [],
   "source": [
    " ser = pd.Series(np.random.rand(23))"
   ]
  },
  {
   "cell_type": "code",
   "execution_count": 19,
   "id": "26347cda-9492-4322-9d68-cfa8232a62d6",
   "metadata": {},
   "outputs": [
    {
     "data": {
      "text/plain": [
       "pandas.core.series.Series"
      ]
     },
     "execution_count": 19,
     "metadata": {},
     "output_type": "execute_result"
    }
   ],
   "source": [
    "type(ser)"
   ]
  },
  {
   "cell_type": "code",
   "execution_count": 20,
   "id": "045e2ed0-557d-4496-9132-c115f003062f",
   "metadata": {},
   "outputs": [],
   "source": [
    "newdf = pd.DataFrame(np.random.rand(334,5), index = np.arange(334))"
   ]
  },
  {
   "cell_type": "code",
   "execution_count": 21,
   "id": "e90ad7da-13e8-4ed6-bb90-e97469251896",
   "metadata": {},
   "outputs": [
    {
     "data": {
      "text/html": [
       "<div>\n",
       "<style scoped>\n",
       "    .dataframe tbody tr th:only-of-type {\n",
       "        vertical-align: middle;\n",
       "    }\n",
       "\n",
       "    .dataframe tbody tr th {\n",
       "        vertical-align: top;\n",
       "    }\n",
       "\n",
       "    .dataframe thead th {\n",
       "        text-align: right;\n",
       "    }\n",
       "</style>\n",
       "<table border=\"1\" class=\"dataframe\">\n",
       "  <thead>\n",
       "    <tr style=\"text-align: right;\">\n",
       "      <th></th>\n",
       "      <th>0</th>\n",
       "      <th>1</th>\n",
       "      <th>2</th>\n",
       "      <th>3</th>\n",
       "      <th>4</th>\n",
       "    </tr>\n",
       "  </thead>\n",
       "  <tbody>\n",
       "    <tr>\n",
       "      <th>0</th>\n",
       "      <td>0.905549</td>\n",
       "      <td>0.153226</td>\n",
       "      <td>0.307064</td>\n",
       "      <td>0.073912</td>\n",
       "      <td>0.876825</td>\n",
       "    </tr>\n",
       "    <tr>\n",
       "      <th>1</th>\n",
       "      <td>0.304038</td>\n",
       "      <td>0.751551</td>\n",
       "      <td>0.882408</td>\n",
       "      <td>0.586626</td>\n",
       "      <td>0.156763</td>\n",
       "    </tr>\n",
       "    <tr>\n",
       "      <th>2</th>\n",
       "      <td>0.884034</td>\n",
       "      <td>0.568487</td>\n",
       "      <td>0.449755</td>\n",
       "      <td>0.897168</td>\n",
       "      <td>0.100865</td>\n",
       "    </tr>\n",
       "    <tr>\n",
       "      <th>3</th>\n",
       "      <td>0.827464</td>\n",
       "      <td>0.979579</td>\n",
       "      <td>0.470833</td>\n",
       "      <td>0.036652</td>\n",
       "      <td>0.953735</td>\n",
       "    </tr>\n",
       "    <tr>\n",
       "      <th>4</th>\n",
       "      <td>0.460086</td>\n",
       "      <td>0.945669</td>\n",
       "      <td>0.854042</td>\n",
       "      <td>0.961877</td>\n",
       "      <td>0.122345</td>\n",
       "    </tr>\n",
       "  </tbody>\n",
       "</table>\n",
       "</div>"
      ],
      "text/plain": [
       "          0         1         2         3         4\n",
       "0  0.905549  0.153226  0.307064  0.073912  0.876825\n",
       "1  0.304038  0.751551  0.882408  0.586626  0.156763\n",
       "2  0.884034  0.568487  0.449755  0.897168  0.100865\n",
       "3  0.827464  0.979579  0.470833  0.036652  0.953735\n",
       "4  0.460086  0.945669  0.854042  0.961877  0.122345"
      ]
     },
     "execution_count": 21,
     "metadata": {},
     "output_type": "execute_result"
    }
   ],
   "source": [
    "newdf.head()"
   ]
  },
  {
   "cell_type": "code",
   "execution_count": 22,
   "id": "89a585c1-80b2-4569-954c-2c06a3b4f0e5",
   "metadata": {},
   "outputs": [
    {
     "data": {
      "text/plain": [
       "pandas.core.frame.DataFrame"
      ]
     },
     "execution_count": 22,
     "metadata": {},
     "output_type": "execute_result"
    }
   ],
   "source": [
    "type(newdf)"
   ]
  },
  {
   "cell_type": "code",
   "execution_count": 23,
   "id": "91b02d03-b567-4778-a35c-4b9205183789",
   "metadata": {},
   "outputs": [
    {
     "data": {
      "text/html": [
       "<div>\n",
       "<style scoped>\n",
       "    .dataframe tbody tr th:only-of-type {\n",
       "        vertical-align: middle;\n",
       "    }\n",
       "\n",
       "    .dataframe tbody tr th {\n",
       "        vertical-align: top;\n",
       "    }\n",
       "\n",
       "    .dataframe thead th {\n",
       "        text-align: right;\n",
       "    }\n",
       "</style>\n",
       "<table border=\"1\" class=\"dataframe\">\n",
       "  <thead>\n",
       "    <tr style=\"text-align: right;\">\n",
       "      <th></th>\n",
       "      <th>0</th>\n",
       "      <th>1</th>\n",
       "      <th>2</th>\n",
       "      <th>3</th>\n",
       "      <th>4</th>\n",
       "    </tr>\n",
       "  </thead>\n",
       "  <tbody>\n",
       "    <tr>\n",
       "      <th>count</th>\n",
       "      <td>334.000000</td>\n",
       "      <td>334.000000</td>\n",
       "      <td>334.000000</td>\n",
       "      <td>334.000000</td>\n",
       "      <td>334.000000</td>\n",
       "    </tr>\n",
       "    <tr>\n",
       "      <th>mean</th>\n",
       "      <td>0.536490</td>\n",
       "      <td>0.519989</td>\n",
       "      <td>0.510684</td>\n",
       "      <td>0.498194</td>\n",
       "      <td>0.504784</td>\n",
       "    </tr>\n",
       "    <tr>\n",
       "      <th>std</th>\n",
       "      <td>0.294537</td>\n",
       "      <td>0.293086</td>\n",
       "      <td>0.290015</td>\n",
       "      <td>0.304576</td>\n",
       "      <td>0.282052</td>\n",
       "    </tr>\n",
       "    <tr>\n",
       "      <th>min</th>\n",
       "      <td>0.000025</td>\n",
       "      <td>0.000114</td>\n",
       "      <td>0.008705</td>\n",
       "      <td>0.000593</td>\n",
       "      <td>0.004763</td>\n",
       "    </tr>\n",
       "    <tr>\n",
       "      <th>25%</th>\n",
       "      <td>0.277130</td>\n",
       "      <td>0.267418</td>\n",
       "      <td>0.275393</td>\n",
       "      <td>0.224817</td>\n",
       "      <td>0.255739</td>\n",
       "    </tr>\n",
       "    <tr>\n",
       "      <th>50%</th>\n",
       "      <td>0.548514</td>\n",
       "      <td>0.543180</td>\n",
       "      <td>0.482066</td>\n",
       "      <td>0.486051</td>\n",
       "      <td>0.506328</td>\n",
       "    </tr>\n",
       "    <tr>\n",
       "      <th>75%</th>\n",
       "      <td>0.797362</td>\n",
       "      <td>0.757781</td>\n",
       "      <td>0.767839</td>\n",
       "      <td>0.786689</td>\n",
       "      <td>0.745453</td>\n",
       "    </tr>\n",
       "    <tr>\n",
       "      <th>max</th>\n",
       "      <td>0.999708</td>\n",
       "      <td>0.994430</td>\n",
       "      <td>0.999792</td>\n",
       "      <td>0.997602</td>\n",
       "      <td>0.995764</td>\n",
       "    </tr>\n",
       "  </tbody>\n",
       "</table>\n",
       "</div>"
      ],
      "text/plain": [
       "                0           1           2           3           4\n",
       "count  334.000000  334.000000  334.000000  334.000000  334.000000\n",
       "mean     0.536490    0.519989    0.510684    0.498194    0.504784\n",
       "std      0.294537    0.293086    0.290015    0.304576    0.282052\n",
       "min      0.000025    0.000114    0.008705    0.000593    0.004763\n",
       "25%      0.277130    0.267418    0.275393    0.224817    0.255739\n",
       "50%      0.548514    0.543180    0.482066    0.486051    0.506328\n",
       "75%      0.797362    0.757781    0.767839    0.786689    0.745453\n",
       "max      0.999708    0.994430    0.999792    0.997602    0.995764"
      ]
     },
     "execution_count": 23,
     "metadata": {},
     "output_type": "execute_result"
    }
   ],
   "source": [
    "newdf.describe()"
   ]
  },
  {
   "cell_type": "code",
   "execution_count": 24,
   "id": "e974b791-a4bc-45a6-975e-8cf2f5bf8abf",
   "metadata": {},
   "outputs": [
    {
     "data": {
      "text/plain": [
       "0    float64\n",
       "1    float64\n",
       "2    float64\n",
       "3    float64\n",
       "4    float64\n",
       "dtype: object"
      ]
     },
     "execution_count": 24,
     "metadata": {},
     "output_type": "execute_result"
    }
   ],
   "source": [
    "newdf.dtypes"
   ]
  },
  {
   "cell_type": "code",
   "execution_count": 25,
   "id": "59f763ee-36ec-43f5-ad1b-d476e9ea7989",
   "metadata": {},
   "outputs": [
    {
     "name": "stderr",
     "output_type": "stream",
     "text": [
      "C:\\Users\\vaibh\\AppData\\Local\\Temp\\ipykernel_15668\\2720532595.py:1: FutureWarning: ChainedAssignmentError: behaviour will change in pandas 3.0!\n",
      "You are setting values through chained assignment. Currently this works in certain cases, but when using Copy-on-Write (which will become the default behaviour in pandas 3.0) this will never work to update the original DataFrame or Series, because the intermediate object on which we are setting values will behave as a copy.\n",
      "A typical example is when you are setting values in a column of a DataFrame, like:\n",
      "\n",
      "df[\"col\"][row_indexer] = value\n",
      "\n",
      "Use `df.loc[row_indexer, \"col\"] = values` instead, to perform the assignment in a single step and ensure this keeps updating the original `df`.\n",
      "\n",
      "See the caveats in the documentation: https://pandas.pydata.org/pandas-docs/stable/user_guide/indexing.html#returning-a-view-versus-a-copy\n",
      "\n",
      "  newdf[0][0] = \"vaibhav\"\n",
      "C:\\Users\\vaibh\\AppData\\Local\\Temp\\ipykernel_15668\\2720532595.py:1: FutureWarning: Setting an item of incompatible dtype is deprecated and will raise an error in a future version of pandas. Value 'vaibhav' has dtype incompatible with float64, please explicitly cast to a compatible dtype first.\n",
      "  newdf[0][0] = \"vaibhav\"\n"
     ]
    }
   ],
   "source": [
    "newdf[0][0] = \"vaibhav\""
   ]
  },
  {
   "cell_type": "code",
   "execution_count": 26,
   "id": "4ac3d2d5-e67f-4708-a63b-3c323fc5d73b",
   "metadata": {},
   "outputs": [
    {
     "data": {
      "text/plain": [
       "0     object\n",
       "1    float64\n",
       "2    float64\n",
       "3    float64\n",
       "4    float64\n",
       "dtype: object"
      ]
     },
     "execution_count": 26,
     "metadata": {},
     "output_type": "execute_result"
    }
   ],
   "source": [
    "newdf.dtypes"
   ]
  },
  {
   "cell_type": "code",
   "execution_count": 27,
   "id": "608ad169-6c89-4eae-9948-3c45da2ba456",
   "metadata": {},
   "outputs": [
    {
     "data": {
      "text/html": [
       "<div>\n",
       "<style scoped>\n",
       "    .dataframe tbody tr th:only-of-type {\n",
       "        vertical-align: middle;\n",
       "    }\n",
       "\n",
       "    .dataframe tbody tr th {\n",
       "        vertical-align: top;\n",
       "    }\n",
       "\n",
       "    .dataframe thead th {\n",
       "        text-align: right;\n",
       "    }\n",
       "</style>\n",
       "<table border=\"1\" class=\"dataframe\">\n",
       "  <thead>\n",
       "    <tr style=\"text-align: right;\">\n",
       "      <th></th>\n",
       "      <th>0</th>\n",
       "      <th>1</th>\n",
       "      <th>2</th>\n",
       "      <th>3</th>\n",
       "      <th>4</th>\n",
       "    </tr>\n",
       "  </thead>\n",
       "  <tbody>\n",
       "    <tr>\n",
       "      <th>0</th>\n",
       "      <td>vaibhav</td>\n",
       "      <td>0.153226</td>\n",
       "      <td>0.307064</td>\n",
       "      <td>0.073912</td>\n",
       "      <td>0.876825</td>\n",
       "    </tr>\n",
       "    <tr>\n",
       "      <th>1</th>\n",
       "      <td>0.304038</td>\n",
       "      <td>0.751551</td>\n",
       "      <td>0.882408</td>\n",
       "      <td>0.586626</td>\n",
       "      <td>0.156763</td>\n",
       "    </tr>\n",
       "    <tr>\n",
       "      <th>2</th>\n",
       "      <td>0.884034</td>\n",
       "      <td>0.568487</td>\n",
       "      <td>0.449755</td>\n",
       "      <td>0.897168</td>\n",
       "      <td>0.100865</td>\n",
       "    </tr>\n",
       "    <tr>\n",
       "      <th>3</th>\n",
       "      <td>0.827464</td>\n",
       "      <td>0.979579</td>\n",
       "      <td>0.470833</td>\n",
       "      <td>0.036652</td>\n",
       "      <td>0.953735</td>\n",
       "    </tr>\n",
       "    <tr>\n",
       "      <th>4</th>\n",
       "      <td>0.460086</td>\n",
       "      <td>0.945669</td>\n",
       "      <td>0.854042</td>\n",
       "      <td>0.961877</td>\n",
       "      <td>0.122345</td>\n",
       "    </tr>\n",
       "  </tbody>\n",
       "</table>\n",
       "</div>"
      ],
      "text/plain": [
       "          0         1         2         3         4\n",
       "0   vaibhav  0.153226  0.307064  0.073912  0.876825\n",
       "1  0.304038  0.751551  0.882408  0.586626  0.156763\n",
       "2  0.884034  0.568487  0.449755  0.897168  0.100865\n",
       "3  0.827464  0.979579  0.470833  0.036652  0.953735\n",
       "4  0.460086  0.945669  0.854042  0.961877  0.122345"
      ]
     },
     "execution_count": 27,
     "metadata": {},
     "output_type": "execute_result"
    }
   ],
   "source": [
    "newdf.head()\n"
   ]
  },
  {
   "cell_type": "code",
   "execution_count": 28,
   "id": "d5cd6051-9c72-4459-8fd8-c507a7fbc458",
   "metadata": {},
   "outputs": [
    {
     "data": {
      "text/plain": [
       "Index([  0,   1,   2,   3,   4,   5,   6,   7,   8,   9,\n",
       "       ...\n",
       "       324, 325, 326, 327, 328, 329, 330, 331, 332, 333],\n",
       "      dtype='int32', length=334)"
      ]
     },
     "execution_count": 28,
     "metadata": {},
     "output_type": "execute_result"
    }
   ],
   "source": [
    "newdf.index"
   ]
  },
  {
   "cell_type": "code",
   "execution_count": 29,
   "id": "942b11ff-0279-4977-a176-500d52f82772",
   "metadata": {},
   "outputs": [
    {
     "data": {
      "text/plain": [
       "RangeIndex(start=0, stop=5, step=1)"
      ]
     },
     "execution_count": 29,
     "metadata": {},
     "output_type": "execute_result"
    }
   ],
   "source": [
    "newdf.columns"
   ]
  },
  {
   "cell_type": "code",
   "execution_count": 30,
   "id": "89028076-ad1e-4566-b0c5-da79d7a68d38",
   "metadata": {},
   "outputs": [
    {
     "data": {
      "text/plain": [
       "array([['vaibhav', 0.15322562572242637, 0.30706423403883154,\n",
       "        0.07391180931003594, 0.876825027252624],\n",
       "       [0.3040382275008221, 0.7515508749654348, 0.8824076059147122,\n",
       "        0.5866256297322197, 0.15676277198079502],\n",
       "       [0.8840336397391658, 0.568487249941059, 0.44975476762868905,\n",
       "        0.8971676045934182, 0.10086486335476008],\n",
       "       ...,\n",
       "       [0.5506968053450298, 0.7387960615974186, 0.7650866322116296,\n",
       "        0.9255456795066681, 0.4737585429970568],\n",
       "       [0.15960177332750125, 0.720263279375169, 0.27510627316263647,\n",
       "        0.1348131762752477, 0.6311631379563175],\n",
       "       [0.5231356980046303, 0.6004415258037883, 0.6143986051542142,\n",
       "        0.6911826614288084, 0.7374654201345078]], dtype=object)"
      ]
     },
     "execution_count": 30,
     "metadata": {},
     "output_type": "execute_result"
    }
   ],
   "source": [
    "newdf.to_numpy()"
   ]
  },
  {
   "cell_type": "code",
   "execution_count": 31,
   "id": "dfb24280-e8a6-488b-885e-29fd1ceade5b",
   "metadata": {},
   "outputs": [],
   "source": [
    " newdf[0][0] = 0.2343"
   ]
  },
  {
   "cell_type": "code",
   "execution_count": 32,
   "id": "3d761af6-f358-4553-9408-f87dc26ab602",
   "metadata": {},
   "outputs": [
    {
     "data": {
      "text/html": [
       "<div>\n",
       "<style scoped>\n",
       "    .dataframe tbody tr th:only-of-type {\n",
       "        vertical-align: middle;\n",
       "    }\n",
       "\n",
       "    .dataframe tbody tr th {\n",
       "        vertical-align: top;\n",
       "    }\n",
       "\n",
       "    .dataframe thead th {\n",
       "        text-align: right;\n",
       "    }\n",
       "</style>\n",
       "<table border=\"1\" class=\"dataframe\">\n",
       "  <thead>\n",
       "    <tr style=\"text-align: right;\">\n",
       "      <th></th>\n",
       "      <th>0</th>\n",
       "      <th>1</th>\n",
       "      <th>2</th>\n",
       "      <th>3</th>\n",
       "      <th>4</th>\n",
       "      <th>5</th>\n",
       "      <th>6</th>\n",
       "      <th>7</th>\n",
       "      <th>8</th>\n",
       "      <th>9</th>\n",
       "      <th>...</th>\n",
       "      <th>324</th>\n",
       "      <th>325</th>\n",
       "      <th>326</th>\n",
       "      <th>327</th>\n",
       "      <th>328</th>\n",
       "      <th>329</th>\n",
       "      <th>330</th>\n",
       "      <th>331</th>\n",
       "      <th>332</th>\n",
       "      <th>333</th>\n",
       "    </tr>\n",
       "  </thead>\n",
       "  <tbody>\n",
       "    <tr>\n",
       "      <th>0</th>\n",
       "      <td>0.2343</td>\n",
       "      <td>0.304038</td>\n",
       "      <td>0.884034</td>\n",
       "      <td>0.827464</td>\n",
       "      <td>0.460086</td>\n",
       "      <td>0.372075</td>\n",
       "      <td>0.55163</td>\n",
       "      <td>0.783628</td>\n",
       "      <td>0.763249</td>\n",
       "      <td>0.877994</td>\n",
       "      <td>...</td>\n",
       "      <td>0.871458</td>\n",
       "      <td>0.506534</td>\n",
       "      <td>0.206415</td>\n",
       "      <td>0.190663</td>\n",
       "      <td>0.800176</td>\n",
       "      <td>0.770895</td>\n",
       "      <td>0.563165</td>\n",
       "      <td>0.550697</td>\n",
       "      <td>0.159602</td>\n",
       "      <td>0.523136</td>\n",
       "    </tr>\n",
       "    <tr>\n",
       "      <th>1</th>\n",
       "      <td>0.153226</td>\n",
       "      <td>0.751551</td>\n",
       "      <td>0.568487</td>\n",
       "      <td>0.979579</td>\n",
       "      <td>0.945669</td>\n",
       "      <td>0.519282</td>\n",
       "      <td>0.993986</td>\n",
       "      <td>0.319583</td>\n",
       "      <td>0.691993</td>\n",
       "      <td>0.57785</td>\n",
       "      <td>...</td>\n",
       "      <td>0.116255</td>\n",
       "      <td>0.155111</td>\n",
       "      <td>0.01268</td>\n",
       "      <td>0.611774</td>\n",
       "      <td>0.506305</td>\n",
       "      <td>0.670444</td>\n",
       "      <td>0.76093</td>\n",
       "      <td>0.738796</td>\n",
       "      <td>0.720263</td>\n",
       "      <td>0.600442</td>\n",
       "    </tr>\n",
       "    <tr>\n",
       "      <th>2</th>\n",
       "      <td>0.307064</td>\n",
       "      <td>0.882408</td>\n",
       "      <td>0.449755</td>\n",
       "      <td>0.470833</td>\n",
       "      <td>0.854042</td>\n",
       "      <td>0.114339</td>\n",
       "      <td>0.602232</td>\n",
       "      <td>0.994949</td>\n",
       "      <td>0.113844</td>\n",
       "      <td>0.829631</td>\n",
       "      <td>...</td>\n",
       "      <td>0.4538</td>\n",
       "      <td>0.629306</td>\n",
       "      <td>0.808261</td>\n",
       "      <td>0.448139</td>\n",
       "      <td>0.103966</td>\n",
       "      <td>0.142115</td>\n",
       "      <td>0.890429</td>\n",
       "      <td>0.765087</td>\n",
       "      <td>0.275106</td>\n",
       "      <td>0.614399</td>\n",
       "    </tr>\n",
       "    <tr>\n",
       "      <th>3</th>\n",
       "      <td>0.073912</td>\n",
       "      <td>0.586626</td>\n",
       "      <td>0.897168</td>\n",
       "      <td>0.036652</td>\n",
       "      <td>0.961877</td>\n",
       "      <td>0.824115</td>\n",
       "      <td>0.035093</td>\n",
       "      <td>0.035956</td>\n",
       "      <td>0.646508</td>\n",
       "      <td>0.58399</td>\n",
       "      <td>...</td>\n",
       "      <td>0.359007</td>\n",
       "      <td>0.893594</td>\n",
       "      <td>0.064483</td>\n",
       "      <td>0.115168</td>\n",
       "      <td>0.423421</td>\n",
       "      <td>0.212498</td>\n",
       "      <td>0.952195</td>\n",
       "      <td>0.925546</td>\n",
       "      <td>0.134813</td>\n",
       "      <td>0.691183</td>\n",
       "    </tr>\n",
       "    <tr>\n",
       "      <th>4</th>\n",
       "      <td>0.876825</td>\n",
       "      <td>0.156763</td>\n",
       "      <td>0.100865</td>\n",
       "      <td>0.953735</td>\n",
       "      <td>0.122345</td>\n",
       "      <td>0.548696</td>\n",
       "      <td>0.360919</td>\n",
       "      <td>0.226823</td>\n",
       "      <td>0.581565</td>\n",
       "      <td>0.964175</td>\n",
       "      <td>...</td>\n",
       "      <td>0.93409</td>\n",
       "      <td>0.404315</td>\n",
       "      <td>0.631331</td>\n",
       "      <td>0.55455</td>\n",
       "      <td>0.910292</td>\n",
       "      <td>0.385724</td>\n",
       "      <td>0.632203</td>\n",
       "      <td>0.473759</td>\n",
       "      <td>0.631163</td>\n",
       "      <td>0.737465</td>\n",
       "    </tr>\n",
       "  </tbody>\n",
       "</table>\n",
       "<p>5 rows × 334 columns</p>\n",
       "</div>"
      ],
      "text/plain": [
       "        0         1         2         3         4         5         6    \\\n",
       "0    0.2343  0.304038  0.884034  0.827464  0.460086  0.372075   0.55163   \n",
       "1  0.153226  0.751551  0.568487  0.979579  0.945669  0.519282  0.993986   \n",
       "2  0.307064  0.882408  0.449755  0.470833  0.854042  0.114339  0.602232   \n",
       "3  0.073912  0.586626  0.897168  0.036652  0.961877  0.824115  0.035093   \n",
       "4  0.876825  0.156763  0.100865  0.953735  0.122345  0.548696  0.360919   \n",
       "\n",
       "        7         8         9    ...       324       325       326       327  \\\n",
       "0  0.783628  0.763249  0.877994  ...  0.871458  0.506534  0.206415  0.190663   \n",
       "1  0.319583  0.691993   0.57785  ...  0.116255  0.155111   0.01268  0.611774   \n",
       "2  0.994949  0.113844  0.829631  ...    0.4538  0.629306  0.808261  0.448139   \n",
       "3  0.035956  0.646508   0.58399  ...  0.359007  0.893594  0.064483  0.115168   \n",
       "4  0.226823  0.581565  0.964175  ...   0.93409  0.404315  0.631331   0.55455   \n",
       "\n",
       "        328       329       330       331       332       333  \n",
       "0  0.800176  0.770895  0.563165  0.550697  0.159602  0.523136  \n",
       "1  0.506305  0.670444   0.76093  0.738796  0.720263  0.600442  \n",
       "2  0.103966  0.142115  0.890429  0.765087  0.275106  0.614399  \n",
       "3  0.423421  0.212498  0.952195  0.925546  0.134813  0.691183  \n",
       "4  0.910292  0.385724  0.632203  0.473759  0.631163  0.737465  \n",
       "\n",
       "[5 rows x 334 columns]"
      ]
     },
     "execution_count": 32,
     "metadata": {},
     "output_type": "execute_result"
    }
   ],
   "source": [
    "newdf.T"
   ]
  },
  {
   "cell_type": "code",
   "execution_count": 33,
   "id": "990a40fa-7277-49fe-9c1d-0b1edc6801b6",
   "metadata": {},
   "outputs": [
    {
     "data": {
      "text/html": [
       "<div>\n",
       "<style scoped>\n",
       "    .dataframe tbody tr th:only-of-type {\n",
       "        vertical-align: middle;\n",
       "    }\n",
       "\n",
       "    .dataframe tbody tr th {\n",
       "        vertical-align: top;\n",
       "    }\n",
       "\n",
       "    .dataframe thead th {\n",
       "        text-align: right;\n",
       "    }\n",
       "</style>\n",
       "<table border=\"1\" class=\"dataframe\">\n",
       "  <thead>\n",
       "    <tr style=\"text-align: right;\">\n",
       "      <th></th>\n",
       "      <th>0</th>\n",
       "      <th>1</th>\n",
       "      <th>2</th>\n",
       "      <th>3</th>\n",
       "      <th>4</th>\n",
       "    </tr>\n",
       "  </thead>\n",
       "  <tbody>\n",
       "    <tr>\n",
       "      <th>0</th>\n",
       "      <td>0.2343</td>\n",
       "      <td>0.153226</td>\n",
       "      <td>0.307064</td>\n",
       "      <td>0.073912</td>\n",
       "      <td>0.876825</td>\n",
       "    </tr>\n",
       "    <tr>\n",
       "      <th>1</th>\n",
       "      <td>0.304038</td>\n",
       "      <td>0.751551</td>\n",
       "      <td>0.882408</td>\n",
       "      <td>0.586626</td>\n",
       "      <td>0.156763</td>\n",
       "    </tr>\n",
       "    <tr>\n",
       "      <th>2</th>\n",
       "      <td>0.884034</td>\n",
       "      <td>0.568487</td>\n",
       "      <td>0.449755</td>\n",
       "      <td>0.897168</td>\n",
       "      <td>0.100865</td>\n",
       "    </tr>\n",
       "    <tr>\n",
       "      <th>3</th>\n",
       "      <td>0.827464</td>\n",
       "      <td>0.979579</td>\n",
       "      <td>0.470833</td>\n",
       "      <td>0.036652</td>\n",
       "      <td>0.953735</td>\n",
       "    </tr>\n",
       "    <tr>\n",
       "      <th>4</th>\n",
       "      <td>0.460086</td>\n",
       "      <td>0.945669</td>\n",
       "      <td>0.854042</td>\n",
       "      <td>0.961877</td>\n",
       "      <td>0.122345</td>\n",
       "    </tr>\n",
       "  </tbody>\n",
       "</table>\n",
       "</div>"
      ],
      "text/plain": [
       "          0         1         2         3         4\n",
       "0    0.2343  0.153226  0.307064  0.073912  0.876825\n",
       "1  0.304038  0.751551  0.882408  0.586626  0.156763\n",
       "2  0.884034  0.568487  0.449755  0.897168  0.100865\n",
       "3  0.827464  0.979579  0.470833  0.036652  0.953735\n",
       "4  0.460086  0.945669  0.854042  0.961877  0.122345"
      ]
     },
     "execution_count": 33,
     "metadata": {},
     "output_type": "execute_result"
    }
   ],
   "source": [
    "newdf.head()"
   ]
  },
  {
   "cell_type": "code",
   "execution_count": 34,
   "id": "f2cdcbe4-a5a0-4519-8fdf-b8a537858b93",
   "metadata": {},
   "outputs": [
    {
     "data": {
      "text/html": [
       "<div>\n",
       "<style scoped>\n",
       "    .dataframe tbody tr th:only-of-type {\n",
       "        vertical-align: middle;\n",
       "    }\n",
       "\n",
       "    .dataframe tbody tr th {\n",
       "        vertical-align: top;\n",
       "    }\n",
       "\n",
       "    .dataframe thead th {\n",
       "        text-align: right;\n",
       "    }\n",
       "</style>\n",
       "<table border=\"1\" class=\"dataframe\">\n",
       "  <thead>\n",
       "    <tr style=\"text-align: right;\">\n",
       "      <th></th>\n",
       "      <th>0</th>\n",
       "      <th>1</th>\n",
       "      <th>2</th>\n",
       "      <th>3</th>\n",
       "      <th>4</th>\n",
       "    </tr>\n",
       "  </thead>\n",
       "  <tbody>\n",
       "    <tr>\n",
       "      <th>333</th>\n",
       "      <td>0.523136</td>\n",
       "      <td>0.600442</td>\n",
       "      <td>0.614399</td>\n",
       "      <td>0.691183</td>\n",
       "      <td>0.737465</td>\n",
       "    </tr>\n",
       "    <tr>\n",
       "      <th>332</th>\n",
       "      <td>0.159602</td>\n",
       "      <td>0.720263</td>\n",
       "      <td>0.275106</td>\n",
       "      <td>0.134813</td>\n",
       "      <td>0.631163</td>\n",
       "    </tr>\n",
       "    <tr>\n",
       "      <th>331</th>\n",
       "      <td>0.550697</td>\n",
       "      <td>0.738796</td>\n",
       "      <td>0.765087</td>\n",
       "      <td>0.925546</td>\n",
       "      <td>0.473759</td>\n",
       "    </tr>\n",
       "    <tr>\n",
       "      <th>330</th>\n",
       "      <td>0.563165</td>\n",
       "      <td>0.760930</td>\n",
       "      <td>0.890429</td>\n",
       "      <td>0.952195</td>\n",
       "      <td>0.632203</td>\n",
       "    </tr>\n",
       "    <tr>\n",
       "      <th>329</th>\n",
       "      <td>0.770895</td>\n",
       "      <td>0.670444</td>\n",
       "      <td>0.142115</td>\n",
       "      <td>0.212498</td>\n",
       "      <td>0.385724</td>\n",
       "    </tr>\n",
       "    <tr>\n",
       "      <th>...</th>\n",
       "      <td>...</td>\n",
       "      <td>...</td>\n",
       "      <td>...</td>\n",
       "      <td>...</td>\n",
       "      <td>...</td>\n",
       "    </tr>\n",
       "    <tr>\n",
       "      <th>4</th>\n",
       "      <td>0.460086</td>\n",
       "      <td>0.945669</td>\n",
       "      <td>0.854042</td>\n",
       "      <td>0.961877</td>\n",
       "      <td>0.122345</td>\n",
       "    </tr>\n",
       "    <tr>\n",
       "      <th>3</th>\n",
       "      <td>0.827464</td>\n",
       "      <td>0.979579</td>\n",
       "      <td>0.470833</td>\n",
       "      <td>0.036652</td>\n",
       "      <td>0.953735</td>\n",
       "    </tr>\n",
       "    <tr>\n",
       "      <th>2</th>\n",
       "      <td>0.884034</td>\n",
       "      <td>0.568487</td>\n",
       "      <td>0.449755</td>\n",
       "      <td>0.897168</td>\n",
       "      <td>0.100865</td>\n",
       "    </tr>\n",
       "    <tr>\n",
       "      <th>1</th>\n",
       "      <td>0.304038</td>\n",
       "      <td>0.751551</td>\n",
       "      <td>0.882408</td>\n",
       "      <td>0.586626</td>\n",
       "      <td>0.156763</td>\n",
       "    </tr>\n",
       "    <tr>\n",
       "      <th>0</th>\n",
       "      <td>0.2343</td>\n",
       "      <td>0.153226</td>\n",
       "      <td>0.307064</td>\n",
       "      <td>0.073912</td>\n",
       "      <td>0.876825</td>\n",
       "    </tr>\n",
       "  </tbody>\n",
       "</table>\n",
       "<p>334 rows × 5 columns</p>\n",
       "</div>"
      ],
      "text/plain": [
       "            0         1         2         3         4\n",
       "333  0.523136  0.600442  0.614399  0.691183  0.737465\n",
       "332  0.159602  0.720263  0.275106  0.134813  0.631163\n",
       "331  0.550697  0.738796  0.765087  0.925546  0.473759\n",
       "330  0.563165  0.760930  0.890429  0.952195  0.632203\n",
       "329  0.770895  0.670444  0.142115  0.212498  0.385724\n",
       "..        ...       ...       ...       ...       ...\n",
       "4    0.460086  0.945669  0.854042  0.961877  0.122345\n",
       "3    0.827464  0.979579  0.470833  0.036652  0.953735\n",
       "2    0.884034  0.568487  0.449755  0.897168  0.100865\n",
       "1    0.304038  0.751551  0.882408  0.586626  0.156763\n",
       "0      0.2343  0.153226  0.307064  0.073912  0.876825\n",
       "\n",
       "[334 rows x 5 columns]"
      ]
     },
     "execution_count": 34,
     "metadata": {},
     "output_type": "execute_result"
    }
   ],
   "source": [
    "newdf.sort_index(axis=0, ascending=False)"
   ]
  },
  {
   "cell_type": "code",
   "execution_count": 35,
   "id": "2e1b7dc2-586e-4871-b6a9-232456cb1434",
   "metadata": {},
   "outputs": [],
   "source": [
    "newdf2 = newdf"
   ]
  },
  {
   "cell_type": "code",
   "execution_count": 36,
   "id": "dde4e00e-3167-4344-beb6-d88add09d069",
   "metadata": {},
   "outputs": [],
   "source": [
    "newdf2[0][0] = 9898"
   ]
  },
  {
   "cell_type": "code",
   "execution_count": 37,
   "id": "7091674f-85e7-417b-8bdd-bc60b3e42b6e",
   "metadata": {},
   "outputs": [
    {
     "data": {
      "text/html": [
       "<div>\n",
       "<style scoped>\n",
       "    .dataframe tbody tr th:only-of-type {\n",
       "        vertical-align: middle;\n",
       "    }\n",
       "\n",
       "    .dataframe tbody tr th {\n",
       "        vertical-align: top;\n",
       "    }\n",
       "\n",
       "    .dataframe thead th {\n",
       "        text-align: right;\n",
       "    }\n",
       "</style>\n",
       "<table border=\"1\" class=\"dataframe\">\n",
       "  <thead>\n",
       "    <tr style=\"text-align: right;\">\n",
       "      <th></th>\n",
       "      <th>0</th>\n",
       "      <th>1</th>\n",
       "      <th>2</th>\n",
       "      <th>3</th>\n",
       "      <th>4</th>\n",
       "    </tr>\n",
       "  </thead>\n",
       "  <tbody>\n",
       "    <tr>\n",
       "      <th>0</th>\n",
       "      <td>9898</td>\n",
       "      <td>0.153226</td>\n",
       "      <td>0.307064</td>\n",
       "      <td>0.073912</td>\n",
       "      <td>0.876825</td>\n",
       "    </tr>\n",
       "    <tr>\n",
       "      <th>1</th>\n",
       "      <td>0.304038</td>\n",
       "      <td>0.751551</td>\n",
       "      <td>0.882408</td>\n",
       "      <td>0.586626</td>\n",
       "      <td>0.156763</td>\n",
       "    </tr>\n",
       "    <tr>\n",
       "      <th>2</th>\n",
       "      <td>0.884034</td>\n",
       "      <td>0.568487</td>\n",
       "      <td>0.449755</td>\n",
       "      <td>0.897168</td>\n",
       "      <td>0.100865</td>\n",
       "    </tr>\n",
       "    <tr>\n",
       "      <th>3</th>\n",
       "      <td>0.827464</td>\n",
       "      <td>0.979579</td>\n",
       "      <td>0.470833</td>\n",
       "      <td>0.036652</td>\n",
       "      <td>0.953735</td>\n",
       "    </tr>\n",
       "    <tr>\n",
       "      <th>4</th>\n",
       "      <td>0.460086</td>\n",
       "      <td>0.945669</td>\n",
       "      <td>0.854042</td>\n",
       "      <td>0.961877</td>\n",
       "      <td>0.122345</td>\n",
       "    </tr>\n",
       "  </tbody>\n",
       "</table>\n",
       "</div>"
      ],
      "text/plain": [
       "          0         1         2         3         4\n",
       "0      9898  0.153226  0.307064  0.073912  0.876825\n",
       "1  0.304038  0.751551  0.882408  0.586626  0.156763\n",
       "2  0.884034  0.568487  0.449755  0.897168  0.100865\n",
       "3  0.827464  0.979579  0.470833  0.036652  0.953735\n",
       "4  0.460086  0.945669  0.854042  0.961877  0.122345"
      ]
     },
     "execution_count": 37,
     "metadata": {},
     "output_type": "execute_result"
    }
   ],
   "source": [
    "newdf.head()"
   ]
  },
  {
   "cell_type": "code",
   "execution_count": 38,
   "id": "198a265f-a040-468e-97cd-93a9a361c481",
   "metadata": {},
   "outputs": [],
   "source": [
    "newdf3 = newdf.copy()"
   ]
  },
  {
   "cell_type": "code",
   "execution_count": 39,
   "id": "d9aad581-ee38-4b57-8ea2-9c1b52f32337",
   "metadata": {},
   "outputs": [
    {
     "name": "stderr",
     "output_type": "stream",
     "text": [
      "C:\\Users\\vaibh\\AppData\\Local\\Temp\\ipykernel_15668\\187970422.py:1: FutureWarning: ChainedAssignmentError: behaviour will change in pandas 3.0!\n",
      "You are setting values through chained assignment. Currently this works in certain cases, but when using Copy-on-Write (which will become the default behaviour in pandas 3.0) this will never work to update the original DataFrame or Series, because the intermediate object on which we are setting values will behave as a copy.\n",
      "A typical example is when you are setting values in a column of a DataFrame, like:\n",
      "\n",
      "df[\"col\"][row_indexer] = value\n",
      "\n",
      "Use `df.loc[row_indexer, \"col\"] = values` instead, to perform the assignment in a single step and ensure this keeps updating the original `df`.\n",
      "\n",
      "See the caveats in the documentation: https://pandas.pydata.org/pandas-docs/stable/user_guide/indexing.html#returning-a-view-versus-a-copy\n",
      "\n",
      "  newdf3[0][0] = 89765\n",
      "C:\\Users\\vaibh\\AppData\\Local\\Temp\\ipykernel_15668\\187970422.py:1: SettingWithCopyWarning: \n",
      "A value is trying to be set on a copy of a slice from a DataFrame\n",
      "\n",
      "See the caveats in the documentation: https://pandas.pydata.org/pandas-docs/stable/user_guide/indexing.html#returning-a-view-versus-a-copy\n",
      "  newdf3[0][0] = 89765\n"
     ]
    }
   ],
   "source": [
    "newdf3[0][0] = 89765"
   ]
  },
  {
   "cell_type": "code",
   "execution_count": 40,
   "id": "4c4dc022-cb7a-4def-a3ce-faf2a6b4ecb2",
   "metadata": {},
   "outputs": [
    {
     "data": {
      "text/html": [
       "<div>\n",
       "<style scoped>\n",
       "    .dataframe tbody tr th:only-of-type {\n",
       "        vertical-align: middle;\n",
       "    }\n",
       "\n",
       "    .dataframe tbody tr th {\n",
       "        vertical-align: top;\n",
       "    }\n",
       "\n",
       "    .dataframe thead th {\n",
       "        text-align: right;\n",
       "    }\n",
       "</style>\n",
       "<table border=\"1\" class=\"dataframe\">\n",
       "  <thead>\n",
       "    <tr style=\"text-align: right;\">\n",
       "      <th></th>\n",
       "      <th>0</th>\n",
       "      <th>1</th>\n",
       "      <th>2</th>\n",
       "      <th>3</th>\n",
       "      <th>4</th>\n",
       "    </tr>\n",
       "  </thead>\n",
       "  <tbody>\n",
       "    <tr>\n",
       "      <th>0</th>\n",
       "      <td>9898</td>\n",
       "      <td>0.153226</td>\n",
       "      <td>0.307064</td>\n",
       "      <td>0.073912</td>\n",
       "      <td>0.876825</td>\n",
       "    </tr>\n",
       "    <tr>\n",
       "      <th>1</th>\n",
       "      <td>0.304038</td>\n",
       "      <td>0.751551</td>\n",
       "      <td>0.882408</td>\n",
       "      <td>0.586626</td>\n",
       "      <td>0.156763</td>\n",
       "    </tr>\n",
       "    <tr>\n",
       "      <th>2</th>\n",
       "      <td>0.884034</td>\n",
       "      <td>0.568487</td>\n",
       "      <td>0.449755</td>\n",
       "      <td>0.897168</td>\n",
       "      <td>0.100865</td>\n",
       "    </tr>\n",
       "    <tr>\n",
       "      <th>3</th>\n",
       "      <td>0.827464</td>\n",
       "      <td>0.979579</td>\n",
       "      <td>0.470833</td>\n",
       "      <td>0.036652</td>\n",
       "      <td>0.953735</td>\n",
       "    </tr>\n",
       "    <tr>\n",
       "      <th>4</th>\n",
       "      <td>0.460086</td>\n",
       "      <td>0.945669</td>\n",
       "      <td>0.854042</td>\n",
       "      <td>0.961877</td>\n",
       "      <td>0.122345</td>\n",
       "    </tr>\n",
       "  </tbody>\n",
       "</table>\n",
       "</div>"
      ],
      "text/plain": [
       "          0         1         2         3         4\n",
       "0      9898  0.153226  0.307064  0.073912  0.876825\n",
       "1  0.304038  0.751551  0.882408  0.586626  0.156763\n",
       "2  0.884034  0.568487  0.449755  0.897168  0.100865\n",
       "3  0.827464  0.979579  0.470833  0.036652  0.953735\n",
       "4  0.460086  0.945669  0.854042  0.961877  0.122345"
      ]
     },
     "execution_count": 40,
     "metadata": {},
     "output_type": "execute_result"
    }
   ],
   "source": [
    "newdf.head()"
   ]
  },
  {
   "cell_type": "code",
   "execution_count": 41,
   "id": "65a0fb36-28a0-4819-b40f-79e1d3c72405",
   "metadata": {},
   "outputs": [],
   "source": [
    "newdf.loc[0,0] = 6587"
   ]
  },
  {
   "cell_type": "code",
   "execution_count": 42,
   "id": "cad403a3-45ac-499e-aad3-aab8d144ed35",
   "metadata": {},
   "outputs": [
    {
     "data": {
      "text/html": [
       "<div>\n",
       "<style scoped>\n",
       "    .dataframe tbody tr th:only-of-type {\n",
       "        vertical-align: middle;\n",
       "    }\n",
       "\n",
       "    .dataframe tbody tr th {\n",
       "        vertical-align: top;\n",
       "    }\n",
       "\n",
       "    .dataframe thead th {\n",
       "        text-align: right;\n",
       "    }\n",
       "</style>\n",
       "<table border=\"1\" class=\"dataframe\">\n",
       "  <thead>\n",
       "    <tr style=\"text-align: right;\">\n",
       "      <th></th>\n",
       "      <th>0</th>\n",
       "      <th>1</th>\n",
       "      <th>2</th>\n",
       "      <th>3</th>\n",
       "      <th>4</th>\n",
       "    </tr>\n",
       "  </thead>\n",
       "  <tbody>\n",
       "    <tr>\n",
       "      <th>0</th>\n",
       "      <td>6587</td>\n",
       "      <td>0.153226</td>\n",
       "      <td>0.307064</td>\n",
       "      <td>0.073912</td>\n",
       "      <td>0.876825</td>\n",
       "    </tr>\n",
       "    <tr>\n",
       "      <th>1</th>\n",
       "      <td>0.304038</td>\n",
       "      <td>0.751551</td>\n",
       "      <td>0.882408</td>\n",
       "      <td>0.586626</td>\n",
       "      <td>0.156763</td>\n",
       "    </tr>\n",
       "  </tbody>\n",
       "</table>\n",
       "</div>"
      ],
      "text/plain": [
       "          0         1         2         3         4\n",
       "0      6587  0.153226  0.307064  0.073912  0.876825\n",
       "1  0.304038  0.751551  0.882408  0.586626  0.156763"
      ]
     },
     "execution_count": 42,
     "metadata": {},
     "output_type": "execute_result"
    }
   ],
   "source": [
    "newdf.head(2)"
   ]
  },
  {
   "cell_type": "code",
   "execution_count": 43,
   "id": "88654bbb-816b-4663-b395-6754ef1db9c6",
   "metadata": {},
   "outputs": [],
   "source": [
    "newdf.columns = list(\"ABCDE\")"
   ]
  },
  {
   "cell_type": "code",
   "execution_count": 44,
   "id": "66c79d69-2ff6-4f31-a45f-0b4550e80c84",
   "metadata": {},
   "outputs": [
    {
     "data": {
      "text/html": [
       "<div>\n",
       "<style scoped>\n",
       "    .dataframe tbody tr th:only-of-type {\n",
       "        vertical-align: middle;\n",
       "    }\n",
       "\n",
       "    .dataframe tbody tr th {\n",
       "        vertical-align: top;\n",
       "    }\n",
       "\n",
       "    .dataframe thead th {\n",
       "        text-align: right;\n",
       "    }\n",
       "</style>\n",
       "<table border=\"1\" class=\"dataframe\">\n",
       "  <thead>\n",
       "    <tr style=\"text-align: right;\">\n",
       "      <th></th>\n",
       "      <th>A</th>\n",
       "      <th>B</th>\n",
       "      <th>C</th>\n",
       "      <th>D</th>\n",
       "      <th>E</th>\n",
       "    </tr>\n",
       "  </thead>\n",
       "  <tbody>\n",
       "    <tr>\n",
       "      <th>0</th>\n",
       "      <td>6587</td>\n",
       "      <td>0.153226</td>\n",
       "      <td>0.307064</td>\n",
       "      <td>0.073912</td>\n",
       "      <td>0.876825</td>\n",
       "    </tr>\n",
       "    <tr>\n",
       "      <th>1</th>\n",
       "      <td>0.304038</td>\n",
       "      <td>0.751551</td>\n",
       "      <td>0.882408</td>\n",
       "      <td>0.586626</td>\n",
       "      <td>0.156763</td>\n",
       "    </tr>\n",
       "    <tr>\n",
       "      <th>2</th>\n",
       "      <td>0.884034</td>\n",
       "      <td>0.568487</td>\n",
       "      <td>0.449755</td>\n",
       "      <td>0.897168</td>\n",
       "      <td>0.100865</td>\n",
       "    </tr>\n",
       "    <tr>\n",
       "      <th>3</th>\n",
       "      <td>0.827464</td>\n",
       "      <td>0.979579</td>\n",
       "      <td>0.470833</td>\n",
       "      <td>0.036652</td>\n",
       "      <td>0.953735</td>\n",
       "    </tr>\n",
       "    <tr>\n",
       "      <th>4</th>\n",
       "      <td>0.460086</td>\n",
       "      <td>0.945669</td>\n",
       "      <td>0.854042</td>\n",
       "      <td>0.961877</td>\n",
       "      <td>0.122345</td>\n",
       "    </tr>\n",
       "  </tbody>\n",
       "</table>\n",
       "</div>"
      ],
      "text/plain": [
       "          A         B         C         D         E\n",
       "0      6587  0.153226  0.307064  0.073912  0.876825\n",
       "1  0.304038  0.751551  0.882408  0.586626  0.156763\n",
       "2  0.884034  0.568487  0.449755  0.897168  0.100865\n",
       "3  0.827464  0.979579  0.470833  0.036652  0.953735\n",
       "4  0.460086  0.945669  0.854042  0.961877  0.122345"
      ]
     },
     "execution_count": 44,
     "metadata": {},
     "output_type": "execute_result"
    }
   ],
   "source": [
    "newdf.head()"
   ]
  },
  {
   "cell_type": "code",
   "execution_count": 45,
   "id": "f4a929e7-2a50-4dfe-b7fb-8962986d6da4",
   "metadata": {},
   "outputs": [],
   "source": [
    "newdf.loc[0,'A'] = 6587"
   ]
  },
  {
   "cell_type": "code",
   "execution_count": 46,
   "id": "ab40db62-79d3-46f7-885c-160ab5b98274",
   "metadata": {},
   "outputs": [
    {
     "data": {
      "text/html": [
       "<div>\n",
       "<style scoped>\n",
       "    .dataframe tbody tr th:only-of-type {\n",
       "        vertical-align: middle;\n",
       "    }\n",
       "\n",
       "    .dataframe tbody tr th {\n",
       "        vertical-align: top;\n",
       "    }\n",
       "\n",
       "    .dataframe thead th {\n",
       "        text-align: right;\n",
       "    }\n",
       "</style>\n",
       "<table border=\"1\" class=\"dataframe\">\n",
       "  <thead>\n",
       "    <tr style=\"text-align: right;\">\n",
       "      <th></th>\n",
       "      <th>A</th>\n",
       "      <th>B</th>\n",
       "      <th>C</th>\n",
       "      <th>D</th>\n",
       "      <th>E</th>\n",
       "    </tr>\n",
       "  </thead>\n",
       "  <tbody>\n",
       "    <tr>\n",
       "      <th>0</th>\n",
       "      <td>6587</td>\n",
       "      <td>0.153226</td>\n",
       "      <td>0.307064</td>\n",
       "      <td>0.073912</td>\n",
       "      <td>0.876825</td>\n",
       "    </tr>\n",
       "    <tr>\n",
       "      <th>1</th>\n",
       "      <td>0.304038</td>\n",
       "      <td>0.751551</td>\n",
       "      <td>0.882408</td>\n",
       "      <td>0.586626</td>\n",
       "      <td>0.156763</td>\n",
       "    </tr>\n",
       "  </tbody>\n",
       "</table>\n",
       "</div>"
      ],
      "text/plain": [
       "          A         B         C         D         E\n",
       "0      6587  0.153226  0.307064  0.073912  0.876825\n",
       "1  0.304038  0.751551  0.882408  0.586626  0.156763"
      ]
     },
     "execution_count": 46,
     "metadata": {},
     "output_type": "execute_result"
    }
   ],
   "source": [
    "newdf.head(2)"
   ]
  },
  {
   "cell_type": "code",
   "execution_count": 47,
   "id": "09ca2be5-96f6-46ed-852a-0b6319d0d20f",
   "metadata": {},
   "outputs": [],
   "source": [
    "newdf.loc[0,0] = 654"
   ]
  },
  {
   "cell_type": "code",
   "execution_count": 48,
   "id": "0644b5c1-c703-421c-ba99-0d74a3a64d9a",
   "metadata": {},
   "outputs": [
    {
     "data": {
      "text/html": [
       "<div>\n",
       "<style scoped>\n",
       "    .dataframe tbody tr th:only-of-type {\n",
       "        vertical-align: middle;\n",
       "    }\n",
       "\n",
       "    .dataframe tbody tr th {\n",
       "        vertical-align: top;\n",
       "    }\n",
       "\n",
       "    .dataframe thead th {\n",
       "        text-align: right;\n",
       "    }\n",
       "</style>\n",
       "<table border=\"1\" class=\"dataframe\">\n",
       "  <thead>\n",
       "    <tr style=\"text-align: right;\">\n",
       "      <th></th>\n",
       "      <th>A</th>\n",
       "      <th>B</th>\n",
       "      <th>C</th>\n",
       "      <th>D</th>\n",
       "      <th>E</th>\n",
       "      <th>0</th>\n",
       "    </tr>\n",
       "  </thead>\n",
       "  <tbody>\n",
       "    <tr>\n",
       "      <th>0</th>\n",
       "      <td>6587</td>\n",
       "      <td>0.153226</td>\n",
       "      <td>0.307064</td>\n",
       "      <td>0.073912</td>\n",
       "      <td>0.876825</td>\n",
       "      <td>654.0</td>\n",
       "    </tr>\n",
       "    <tr>\n",
       "      <th>1</th>\n",
       "      <td>0.304038</td>\n",
       "      <td>0.751551</td>\n",
       "      <td>0.882408</td>\n",
       "      <td>0.586626</td>\n",
       "      <td>0.156763</td>\n",
       "      <td>NaN</td>\n",
       "    </tr>\n",
       "    <tr>\n",
       "      <th>2</th>\n",
       "      <td>0.884034</td>\n",
       "      <td>0.568487</td>\n",
       "      <td>0.449755</td>\n",
       "      <td>0.897168</td>\n",
       "      <td>0.100865</td>\n",
       "      <td>NaN</td>\n",
       "    </tr>\n",
       "    <tr>\n",
       "      <th>3</th>\n",
       "      <td>0.827464</td>\n",
       "      <td>0.979579</td>\n",
       "      <td>0.470833</td>\n",
       "      <td>0.036652</td>\n",
       "      <td>0.953735</td>\n",
       "      <td>NaN</td>\n",
       "    </tr>\n",
       "    <tr>\n",
       "      <th>4</th>\n",
       "      <td>0.460086</td>\n",
       "      <td>0.945669</td>\n",
       "      <td>0.854042</td>\n",
       "      <td>0.961877</td>\n",
       "      <td>0.122345</td>\n",
       "      <td>NaN</td>\n",
       "    </tr>\n",
       "  </tbody>\n",
       "</table>\n",
       "</div>"
      ],
      "text/plain": [
       "          A         B         C         D         E      0\n",
       "0      6587  0.153226  0.307064  0.073912  0.876825  654.0\n",
       "1  0.304038  0.751551  0.882408  0.586626  0.156763    NaN\n",
       "2  0.884034  0.568487  0.449755  0.897168  0.100865    NaN\n",
       "3  0.827464  0.979579  0.470833  0.036652  0.953735    NaN\n",
       "4  0.460086  0.945669  0.854042  0.961877  0.122345    NaN"
      ]
     },
     "execution_count": 48,
     "metadata": {},
     "output_type": "execute_result"
    }
   ],
   "source": [
    "newdf.head()"
   ]
  },
  {
   "cell_type": "code",
   "execution_count": 49,
   "id": "d243bfc1-8ad8-4661-961a-9a7d9e6ef8ce",
   "metadata": {},
   "outputs": [],
   "source": [
    "newdf = newdf.drop(0, axis=1)"
   ]
  },
  {
   "cell_type": "code",
   "execution_count": 50,
   "id": "b4cb2175-604d-405d-83c4-2637a9442607",
   "metadata": {},
   "outputs": [
    {
     "data": {
      "text/html": [
       "<div>\n",
       "<style scoped>\n",
       "    .dataframe tbody tr th:only-of-type {\n",
       "        vertical-align: middle;\n",
       "    }\n",
       "\n",
       "    .dataframe tbody tr th {\n",
       "        vertical-align: top;\n",
       "    }\n",
       "\n",
       "    .dataframe thead th {\n",
       "        text-align: right;\n",
       "    }\n",
       "</style>\n",
       "<table border=\"1\" class=\"dataframe\">\n",
       "  <thead>\n",
       "    <tr style=\"text-align: right;\">\n",
       "      <th></th>\n",
       "      <th>A</th>\n",
       "      <th>B</th>\n",
       "      <th>C</th>\n",
       "      <th>D</th>\n",
       "      <th>E</th>\n",
       "    </tr>\n",
       "  </thead>\n",
       "  <tbody>\n",
       "    <tr>\n",
       "      <th>0</th>\n",
       "      <td>6587</td>\n",
       "      <td>0.153226</td>\n",
       "      <td>0.307064</td>\n",
       "      <td>0.073912</td>\n",
       "      <td>0.876825</td>\n",
       "    </tr>\n",
       "    <tr>\n",
       "      <th>1</th>\n",
       "      <td>0.304038</td>\n",
       "      <td>0.751551</td>\n",
       "      <td>0.882408</td>\n",
       "      <td>0.586626</td>\n",
       "      <td>0.156763</td>\n",
       "    </tr>\n",
       "  </tbody>\n",
       "</table>\n",
       "</div>"
      ],
      "text/plain": [
       "          A         B         C         D         E\n",
       "0      6587  0.153226  0.307064  0.073912  0.876825\n",
       "1  0.304038  0.751551  0.882408  0.586626  0.156763"
      ]
     },
     "execution_count": 50,
     "metadata": {},
     "output_type": "execute_result"
    }
   ],
   "source": [
    "newdf.head(2)"
   ]
  },
  {
   "cell_type": "code",
   "execution_count": 51,
   "id": "5871808e-f6a6-408a-aea7-67c69b34f30e",
   "metadata": {},
   "outputs": [
    {
     "data": {
      "text/html": [
       "<div>\n",
       "<style scoped>\n",
       "    .dataframe tbody tr th:only-of-type {\n",
       "        vertical-align: middle;\n",
       "    }\n",
       "\n",
       "    .dataframe tbody tr th {\n",
       "        vertical-align: top;\n",
       "    }\n",
       "\n",
       "    .dataframe thead th {\n",
       "        text-align: right;\n",
       "    }\n",
       "</style>\n",
       "<table border=\"1\" class=\"dataframe\">\n",
       "  <thead>\n",
       "    <tr style=\"text-align: right;\">\n",
       "      <th></th>\n",
       "      <th>C</th>\n",
       "      <th>D</th>\n",
       "    </tr>\n",
       "  </thead>\n",
       "  <tbody>\n",
       "    <tr>\n",
       "      <th>1</th>\n",
       "      <td>0.882408</td>\n",
       "      <td>0.586626</td>\n",
       "    </tr>\n",
       "    <tr>\n",
       "      <th>2</th>\n",
       "      <td>0.449755</td>\n",
       "      <td>0.897168</td>\n",
       "    </tr>\n",
       "  </tbody>\n",
       "</table>\n",
       "</div>"
      ],
      "text/plain": [
       "          C         D\n",
       "1  0.882408  0.586626\n",
       "2  0.449755  0.897168"
      ]
     },
     "execution_count": 51,
     "metadata": {},
     "output_type": "execute_result"
    }
   ],
   "source": [
    "newdf.loc[[1,2], ['C', 'D']]"
   ]
  },
  {
   "cell_type": "code",
   "execution_count": 52,
   "id": "0aa322e9-1015-4c41-859b-a2ec4c5dcedc",
   "metadata": {},
   "outputs": [
    {
     "data": {
      "text/html": [
       "<div>\n",
       "<style scoped>\n",
       "    .dataframe tbody tr th:only-of-type {\n",
       "        vertical-align: middle;\n",
       "    }\n",
       "\n",
       "    .dataframe tbody tr th {\n",
       "        vertical-align: top;\n",
       "    }\n",
       "\n",
       "    .dataframe thead th {\n",
       "        text-align: right;\n",
       "    }\n",
       "</style>\n",
       "<table border=\"1\" class=\"dataframe\">\n",
       "  <thead>\n",
       "    <tr style=\"text-align: right;\">\n",
       "      <th></th>\n",
       "      <th>A</th>\n",
       "      <th>B</th>\n",
       "      <th>C</th>\n",
       "      <th>D</th>\n",
       "      <th>E</th>\n",
       "    </tr>\n",
       "  </thead>\n",
       "  <tbody>\n",
       "    <tr>\n",
       "      <th>1</th>\n",
       "      <td>0.304038</td>\n",
       "      <td>0.751551</td>\n",
       "      <td>0.882408</td>\n",
       "      <td>0.586626</td>\n",
       "      <td>0.156763</td>\n",
       "    </tr>\n",
       "    <tr>\n",
       "      <th>2</th>\n",
       "      <td>0.884034</td>\n",
       "      <td>0.568487</td>\n",
       "      <td>0.449755</td>\n",
       "      <td>0.897168</td>\n",
       "      <td>0.100865</td>\n",
       "    </tr>\n",
       "  </tbody>\n",
       "</table>\n",
       "</div>"
      ],
      "text/plain": [
       "          A         B         C         D         E\n",
       "1  0.304038  0.751551  0.882408  0.586626  0.156763\n",
       "2  0.884034  0.568487  0.449755  0.897168  0.100865"
      ]
     },
     "execution_count": 52,
     "metadata": {},
     "output_type": "execute_result"
    }
   ],
   "source": [
    "newdf.loc[[1,2], :]"
   ]
  },
  {
   "cell_type": "code",
   "execution_count": 53,
   "id": "4a7d8628-c8ee-4ca7-afd7-ee793c17fefa",
   "metadata": {},
   "outputs": [
    {
     "data": {
      "text/html": [
       "<div>\n",
       "<style scoped>\n",
       "    .dataframe tbody tr th:only-of-type {\n",
       "        vertical-align: middle;\n",
       "    }\n",
       "\n",
       "    .dataframe tbody tr th {\n",
       "        vertical-align: top;\n",
       "    }\n",
       "\n",
       "    .dataframe thead th {\n",
       "        text-align: right;\n",
       "    }\n",
       "</style>\n",
       "<table border=\"1\" class=\"dataframe\">\n",
       "  <thead>\n",
       "    <tr style=\"text-align: right;\">\n",
       "      <th></th>\n",
       "      <th>A</th>\n",
       "      <th>B</th>\n",
       "      <th>C</th>\n",
       "      <th>D</th>\n",
       "      <th>E</th>\n",
       "    </tr>\n",
       "  </thead>\n",
       "  <tbody>\n",
       "    <tr>\n",
       "      <th>22</th>\n",
       "      <td>0.132023</td>\n",
       "      <td>0.548657</td>\n",
       "      <td>0.991599</td>\n",
       "      <td>0.393493</td>\n",
       "      <td>0.882281</td>\n",
       "    </tr>\n",
       "    <tr>\n",
       "      <th>26</th>\n",
       "      <td>0.139616</td>\n",
       "      <td>0.155230</td>\n",
       "      <td>0.537182</td>\n",
       "      <td>0.800932</td>\n",
       "      <td>0.716252</td>\n",
       "    </tr>\n",
       "    <tr>\n",
       "      <th>29</th>\n",
       "      <td>0.250506</td>\n",
       "      <td>0.469664</td>\n",
       "      <td>0.594819</td>\n",
       "      <td>0.314203</td>\n",
       "      <td>0.457620</td>\n",
       "    </tr>\n",
       "    <tr>\n",
       "      <th>32</th>\n",
       "      <td>0.27034</td>\n",
       "      <td>0.426359</td>\n",
       "      <td>0.345648</td>\n",
       "      <td>0.086406</td>\n",
       "      <td>0.557496</td>\n",
       "    </tr>\n",
       "    <tr>\n",
       "      <th>33</th>\n",
       "      <td>0.294377</td>\n",
       "      <td>0.994430</td>\n",
       "      <td>0.663595</td>\n",
       "      <td>0.483597</td>\n",
       "      <td>0.658138</td>\n",
       "    </tr>\n",
       "    <tr>\n",
       "      <th>...</th>\n",
       "      <td>...</td>\n",
       "      <td>...</td>\n",
       "      <td>...</td>\n",
       "      <td>...</td>\n",
       "      <td>...</td>\n",
       "    </tr>\n",
       "    <tr>\n",
       "      <th>314</th>\n",
       "      <td>0.089545</td>\n",
       "      <td>0.058993</td>\n",
       "      <td>0.935970</td>\n",
       "      <td>0.739822</td>\n",
       "      <td>0.010404</td>\n",
       "    </tr>\n",
       "    <tr>\n",
       "      <th>318</th>\n",
       "      <td>0.028994</td>\n",
       "      <td>0.530891</td>\n",
       "      <td>0.658159</td>\n",
       "      <td>0.574231</td>\n",
       "      <td>0.139370</td>\n",
       "    </tr>\n",
       "    <tr>\n",
       "      <th>326</th>\n",
       "      <td>0.206415</td>\n",
       "      <td>0.012680</td>\n",
       "      <td>0.808261</td>\n",
       "      <td>0.064483</td>\n",
       "      <td>0.631331</td>\n",
       "    </tr>\n",
       "    <tr>\n",
       "      <th>327</th>\n",
       "      <td>0.190663</td>\n",
       "      <td>0.611774</td>\n",
       "      <td>0.448139</td>\n",
       "      <td>0.115168</td>\n",
       "      <td>0.554550</td>\n",
       "    </tr>\n",
       "    <tr>\n",
       "      <th>332</th>\n",
       "      <td>0.159602</td>\n",
       "      <td>0.720263</td>\n",
       "      <td>0.275106</td>\n",
       "      <td>0.134813</td>\n",
       "      <td>0.631163</td>\n",
       "    </tr>\n",
       "  </tbody>\n",
       "</table>\n",
       "<p>84 rows × 5 columns</p>\n",
       "</div>"
      ],
      "text/plain": [
       "            A         B         C         D         E\n",
       "22   0.132023  0.548657  0.991599  0.393493  0.882281\n",
       "26   0.139616  0.155230  0.537182  0.800932  0.716252\n",
       "29   0.250506  0.469664  0.594819  0.314203  0.457620\n",
       "32    0.27034  0.426359  0.345648  0.086406  0.557496\n",
       "33   0.294377  0.994430  0.663595  0.483597  0.658138\n",
       "..        ...       ...       ...       ...       ...\n",
       "314  0.089545  0.058993  0.935970  0.739822  0.010404\n",
       "318  0.028994  0.530891  0.658159  0.574231  0.139370\n",
       "326  0.206415  0.012680  0.808261  0.064483  0.631331\n",
       "327  0.190663  0.611774  0.448139  0.115168  0.554550\n",
       "332  0.159602  0.720263  0.275106  0.134813  0.631163\n",
       "\n",
       "[84 rows x 5 columns]"
      ]
     },
     "execution_count": 53,
     "metadata": {},
     "output_type": "execute_result"
    }
   ],
   "source": [
    "newdf.loc[(newdf['A']<0.3) & (newdf['C']>0.1)]"
   ]
  },
  {
   "cell_type": "code",
   "execution_count": 54,
   "id": "06a7035b-d059-43d5-a625-e780933961e5",
   "metadata": {},
   "outputs": [
    {
     "data": {
      "text/html": [
       "<div>\n",
       "<style scoped>\n",
       "    .dataframe tbody tr th:only-of-type {\n",
       "        vertical-align: middle;\n",
       "    }\n",
       "\n",
       "    .dataframe tbody tr th {\n",
       "        vertical-align: top;\n",
       "    }\n",
       "\n",
       "    .dataframe thead th {\n",
       "        text-align: right;\n",
       "    }\n",
       "</style>\n",
       "<table border=\"1\" class=\"dataframe\">\n",
       "  <thead>\n",
       "    <tr style=\"text-align: right;\">\n",
       "      <th></th>\n",
       "      <th>A</th>\n",
       "      <th>B</th>\n",
       "      <th>C</th>\n",
       "      <th>D</th>\n",
       "      <th>E</th>\n",
       "    </tr>\n",
       "  </thead>\n",
       "  <tbody>\n",
       "    <tr>\n",
       "      <th>0</th>\n",
       "      <td>6587</td>\n",
       "      <td>0.153226</td>\n",
       "      <td>0.307064</td>\n",
       "      <td>0.073912</td>\n",
       "      <td>0.876825</td>\n",
       "    </tr>\n",
       "    <tr>\n",
       "      <th>1</th>\n",
       "      <td>0.304038</td>\n",
       "      <td>0.751551</td>\n",
       "      <td>0.882408</td>\n",
       "      <td>0.586626</td>\n",
       "      <td>0.156763</td>\n",
       "    </tr>\n",
       "  </tbody>\n",
       "</table>\n",
       "</div>"
      ],
      "text/plain": [
       "          A         B         C         D         E\n",
       "0      6587  0.153226  0.307064  0.073912  0.876825\n",
       "1  0.304038  0.751551  0.882408  0.586626  0.156763"
      ]
     },
     "execution_count": 54,
     "metadata": {},
     "output_type": "execute_result"
    }
   ],
   "source": [
    "newdf.head(2)"
   ]
  },
  {
   "cell_type": "code",
   "execution_count": 55,
   "id": "31c177b5-b214-4139-a3e0-32eb2067c838",
   "metadata": {},
   "outputs": [
    {
     "data": {
      "text/plain": [
       "0.876825027252624"
      ]
     },
     "execution_count": 55,
     "metadata": {},
     "output_type": "execute_result"
    }
   ],
   "source": [
    "newdf.iloc[0,4]"
   ]
  },
  {
   "cell_type": "code",
   "execution_count": 56,
   "id": "97f5f8f0-539f-424c-a1a0-cf768cdaa848",
   "metadata": {},
   "outputs": [
    {
     "data": {
      "text/html": [
       "<div>\n",
       "<style scoped>\n",
       "    .dataframe tbody tr th:only-of-type {\n",
       "        vertical-align: middle;\n",
       "    }\n",
       "\n",
       "    .dataframe tbody tr th {\n",
       "        vertical-align: top;\n",
       "    }\n",
       "\n",
       "    .dataframe thead th {\n",
       "        text-align: right;\n",
       "    }\n",
       "</style>\n",
       "<table border=\"1\" class=\"dataframe\">\n",
       "  <thead>\n",
       "    <tr style=\"text-align: right;\">\n",
       "      <th></th>\n",
       "      <th>B</th>\n",
       "      <th>C</th>\n",
       "    </tr>\n",
       "  </thead>\n",
       "  <tbody>\n",
       "    <tr>\n",
       "      <th>0</th>\n",
       "      <td>0.153226</td>\n",
       "      <td>0.307064</td>\n",
       "    </tr>\n",
       "    <tr>\n",
       "      <th>5</th>\n",
       "      <td>0.519282</td>\n",
       "      <td>0.114339</td>\n",
       "    </tr>\n",
       "  </tbody>\n",
       "</table>\n",
       "</div>"
      ],
      "text/plain": [
       "          B         C\n",
       "0  0.153226  0.307064\n",
       "5  0.519282  0.114339"
      ]
     },
     "execution_count": 56,
     "metadata": {},
     "output_type": "execute_result"
    }
   ],
   "source": [
    "newdf.iloc[[0,5], [1,2]]"
   ]
  },
  {
   "cell_type": "code",
   "execution_count": 57,
   "id": "1d5d1fd0-e5c1-47c7-84dd-27483bb24d5f",
   "metadata": {},
   "outputs": [],
   "source": [
    "newdf.drop([1,5], axis=0, inplace=True)"
   ]
  },
  {
   "cell_type": "code",
   "execution_count": 58,
   "id": "d2f8a792-95f1-42a9-9c0d-bbe2e3ad1850",
   "metadata": {},
   "outputs": [
    {
     "data": {
      "text/html": [
       "<div>\n",
       "<style scoped>\n",
       "    .dataframe tbody tr th:only-of-type {\n",
       "        vertical-align: middle;\n",
       "    }\n",
       "\n",
       "    .dataframe tbody tr th {\n",
       "        vertical-align: top;\n",
       "    }\n",
       "\n",
       "    .dataframe thead th {\n",
       "        text-align: right;\n",
       "    }\n",
       "</style>\n",
       "<table border=\"1\" class=\"dataframe\">\n",
       "  <thead>\n",
       "    <tr style=\"text-align: right;\">\n",
       "      <th></th>\n",
       "      <th>A</th>\n",
       "      <th>B</th>\n",
       "      <th>C</th>\n",
       "      <th>D</th>\n",
       "      <th>E</th>\n",
       "    </tr>\n",
       "  </thead>\n",
       "  <tbody>\n",
       "    <tr>\n",
       "      <th>0</th>\n",
       "      <td>6587</td>\n",
       "      <td>0.153226</td>\n",
       "      <td>0.307064</td>\n",
       "      <td>0.073912</td>\n",
       "      <td>0.876825</td>\n",
       "    </tr>\n",
       "    <tr>\n",
       "      <th>2</th>\n",
       "      <td>0.884034</td>\n",
       "      <td>0.568487</td>\n",
       "      <td>0.449755</td>\n",
       "      <td>0.897168</td>\n",
       "      <td>0.100865</td>\n",
       "    </tr>\n",
       "    <tr>\n",
       "      <th>3</th>\n",
       "      <td>0.827464</td>\n",
       "      <td>0.979579</td>\n",
       "      <td>0.470833</td>\n",
       "      <td>0.036652</td>\n",
       "      <td>0.953735</td>\n",
       "    </tr>\n",
       "    <tr>\n",
       "      <th>4</th>\n",
       "      <td>0.460086</td>\n",
       "      <td>0.945669</td>\n",
       "      <td>0.854042</td>\n",
       "      <td>0.961877</td>\n",
       "      <td>0.122345</td>\n",
       "    </tr>\n",
       "  </tbody>\n",
       "</table>\n",
       "</div>"
      ],
      "text/plain": [
       "          A         B         C         D         E\n",
       "0      6587  0.153226  0.307064  0.073912  0.876825\n",
       "2  0.884034  0.568487  0.449755  0.897168  0.100865\n",
       "3  0.827464  0.979579  0.470833  0.036652  0.953735\n",
       "4  0.460086  0.945669  0.854042  0.961877  0.122345"
      ]
     },
     "execution_count": 58,
     "metadata": {},
     "output_type": "execute_result"
    }
   ],
   "source": [
    "newdf.head(4)"
   ]
  },
  {
   "cell_type": "code",
   "execution_count": 59,
   "id": "b1d9ac69-8f14-4570-ba99-b98ef39b64cb",
   "metadata": {},
   "outputs": [],
   "source": [
    "newdf.reset_index(drop=True, inplace=True)"
   ]
  },
  {
   "cell_type": "code",
   "execution_count": 60,
   "id": "9813e22f-e866-4d83-addb-17a1e3c53c3d",
   "metadata": {},
   "outputs": [
    {
     "data": {
      "text/html": [
       "<div>\n",
       "<style scoped>\n",
       "    .dataframe tbody tr th:only-of-type {\n",
       "        vertical-align: middle;\n",
       "    }\n",
       "\n",
       "    .dataframe tbody tr th {\n",
       "        vertical-align: top;\n",
       "    }\n",
       "\n",
       "    .dataframe thead th {\n",
       "        text-align: right;\n",
       "    }\n",
       "</style>\n",
       "<table border=\"1\" class=\"dataframe\">\n",
       "  <thead>\n",
       "    <tr style=\"text-align: right;\">\n",
       "      <th></th>\n",
       "      <th>A</th>\n",
       "      <th>B</th>\n",
       "      <th>C</th>\n",
       "      <th>D</th>\n",
       "      <th>E</th>\n",
       "    </tr>\n",
       "  </thead>\n",
       "  <tbody>\n",
       "    <tr>\n",
       "      <th>0</th>\n",
       "      <td>6587</td>\n",
       "      <td>0.153226</td>\n",
       "      <td>0.307064</td>\n",
       "      <td>0.073912</td>\n",
       "      <td>0.876825</td>\n",
       "    </tr>\n",
       "    <tr>\n",
       "      <th>1</th>\n",
       "      <td>0.884034</td>\n",
       "      <td>0.568487</td>\n",
       "      <td>0.449755</td>\n",
       "      <td>0.897168</td>\n",
       "      <td>0.100865</td>\n",
       "    </tr>\n",
       "    <tr>\n",
       "      <th>2</th>\n",
       "      <td>0.827464</td>\n",
       "      <td>0.979579</td>\n",
       "      <td>0.470833</td>\n",
       "      <td>0.036652</td>\n",
       "      <td>0.953735</td>\n",
       "    </tr>\n",
       "  </tbody>\n",
       "</table>\n",
       "</div>"
      ],
      "text/plain": [
       "          A         B         C         D         E\n",
       "0      6587  0.153226  0.307064  0.073912  0.876825\n",
       "1  0.884034  0.568487  0.449755  0.897168  0.100865\n",
       "2  0.827464  0.979579  0.470833  0.036652  0.953735"
      ]
     },
     "execution_count": 60,
     "metadata": {},
     "output_type": "execute_result"
    }
   ],
   "source": [
    "  newdf.head(3)"
   ]
  },
  {
   "cell_type": "code",
   "execution_count": 61,
   "id": "d676f7eb-d1a3-4f23-86e4-e715d615c006",
   "metadata": {},
   "outputs": [],
   "source": [
    " newdf.loc[:,['B']] = 34"
   ]
  },
  {
   "cell_type": "code",
   "execution_count": 62,
   "id": "e7ef42ea-82a5-4d15-bfa0-f07009deb0aa",
   "metadata": {},
   "outputs": [
    {
     "data": {
      "text/html": [
       "<div>\n",
       "<style scoped>\n",
       "    .dataframe tbody tr th:only-of-type {\n",
       "        vertical-align: middle;\n",
       "    }\n",
       "\n",
       "    .dataframe tbody tr th {\n",
       "        vertical-align: top;\n",
       "    }\n",
       "\n",
       "    .dataframe thead th {\n",
       "        text-align: right;\n",
       "    }\n",
       "</style>\n",
       "<table border=\"1\" class=\"dataframe\">\n",
       "  <thead>\n",
       "    <tr style=\"text-align: right;\">\n",
       "      <th></th>\n",
       "      <th>A</th>\n",
       "      <th>B</th>\n",
       "      <th>C</th>\n",
       "      <th>D</th>\n",
       "      <th>E</th>\n",
       "    </tr>\n",
       "  </thead>\n",
       "  <tbody>\n",
       "    <tr>\n",
       "      <th>0</th>\n",
       "      <td>6587</td>\n",
       "      <td>34.0</td>\n",
       "      <td>0.307064</td>\n",
       "      <td>0.073912</td>\n",
       "      <td>0.876825</td>\n",
       "    </tr>\n",
       "    <tr>\n",
       "      <th>1</th>\n",
       "      <td>0.884034</td>\n",
       "      <td>34.0</td>\n",
       "      <td>0.449755</td>\n",
       "      <td>0.897168</td>\n",
       "      <td>0.100865</td>\n",
       "    </tr>\n",
       "  </tbody>\n",
       "</table>\n",
       "</div>"
      ],
      "text/plain": [
       "          A     B         C         D         E\n",
       "0      6587  34.0  0.307064  0.073912  0.876825\n",
       "1  0.884034  34.0  0.449755  0.897168  0.100865"
      ]
     },
     "execution_count": 62,
     "metadata": {},
     "output_type": "execute_result"
    }
   ],
   "source": [
    "newdf.head(2)"
   ]
  },
  {
   "cell_type": "code",
   "execution_count": 63,
   "id": "ed110fc1-6570-4256-b429-ab2e5b87de68",
   "metadata": {},
   "outputs": [
    {
     "data": {
      "text/plain": [
       "0      False\n",
       "1      False\n",
       "2      False\n",
       "3      False\n",
       "4      False\n",
       "       ...  \n",
       "327    False\n",
       "328    False\n",
       "329    False\n",
       "330    False\n",
       "331    False\n",
       "Name: B, Length: 332, dtype: bool"
      ]
     },
     "execution_count": 63,
     "metadata": {},
     "output_type": "execute_result"
    }
   ],
   "source": [
    "newdf['B'].isnull()"
   ]
  },
  {
   "cell_type": "code",
   "execution_count": 64,
   "id": "cf8c0f5c-18d3-4736-b9ac-38fb3acc702c",
   "metadata": {},
   "outputs": [],
   "source": [
    "df = pd.DataFrame({\"name\": ['Alfred', 'Batman', 'Alfred'],\n",
    "                    \"toy\": [np.nan, np.nan, np.nan],\n",
    "                   \"born\": [pd.NaT, pd.Timestamp(\"1940-04-25\"),\n",
    "                            pd.NaT]})"
   ]
  },
  {
   "cell_type": "code",
   "execution_count": 65,
   "id": "03aebc9c-fbcc-4fbf-9b43-9e04b7fa236a",
   "metadata": {},
   "outputs": [
    {
     "data": {
      "text/html": [
       "<div>\n",
       "<style scoped>\n",
       "    .dataframe tbody tr th:only-of-type {\n",
       "        vertical-align: middle;\n",
       "    }\n",
       "\n",
       "    .dataframe tbody tr th {\n",
       "        vertical-align: top;\n",
       "    }\n",
       "\n",
       "    .dataframe thead th {\n",
       "        text-align: right;\n",
       "    }\n",
       "</style>\n",
       "<table border=\"1\" class=\"dataframe\">\n",
       "  <thead>\n",
       "    <tr style=\"text-align: right;\">\n",
       "      <th></th>\n",
       "      <th>name</th>\n",
       "      <th>toy</th>\n",
       "      <th>born</th>\n",
       "    </tr>\n",
       "  </thead>\n",
       "  <tbody>\n",
       "    <tr>\n",
       "      <th>0</th>\n",
       "      <td>Alfred</td>\n",
       "      <td>NaN</td>\n",
       "      <td>NaT</td>\n",
       "    </tr>\n",
       "    <tr>\n",
       "      <th>1</th>\n",
       "      <td>Batman</td>\n",
       "      <td>NaN</td>\n",
       "      <td>1940-04-25</td>\n",
       "    </tr>\n",
       "    <tr>\n",
       "      <th>2</th>\n",
       "      <td>Alfred</td>\n",
       "      <td>NaN</td>\n",
       "      <td>NaT</td>\n",
       "    </tr>\n",
       "  </tbody>\n",
       "</table>\n",
       "</div>"
      ],
      "text/plain": [
       "     name  toy       born\n",
       "0  Alfred  NaN        NaT\n",
       "1  Batman  NaN 1940-04-25\n",
       "2  Alfred  NaN        NaT"
      ]
     },
     "execution_count": 65,
     "metadata": {},
     "output_type": "execute_result"
    }
   ],
   "source": [
    "df.head()"
   ]
  },
  {
   "cell_type": "code",
   "execution_count": 66,
   "id": "c1363584-f82e-4b4d-aa86-92669490c496",
   "metadata": {},
   "outputs": [
    {
     "data": {
      "text/html": [
       "<div>\n",
       "<style scoped>\n",
       "    .dataframe tbody tr th:only-of-type {\n",
       "        vertical-align: middle;\n",
       "    }\n",
       "\n",
       "    .dataframe tbody tr th {\n",
       "        vertical-align: top;\n",
       "    }\n",
       "\n",
       "    .dataframe thead th {\n",
       "        text-align: right;\n",
       "    }\n",
       "</style>\n",
       "<table border=\"1\" class=\"dataframe\">\n",
       "  <thead>\n",
       "    <tr style=\"text-align: right;\">\n",
       "      <th></th>\n",
       "      <th>name</th>\n",
       "      <th>born</th>\n",
       "    </tr>\n",
       "  </thead>\n",
       "  <tbody>\n",
       "    <tr>\n",
       "      <th>0</th>\n",
       "      <td>Alfred</td>\n",
       "      <td>NaT</td>\n",
       "    </tr>\n",
       "    <tr>\n",
       "      <th>1</th>\n",
       "      <td>Batman</td>\n",
       "      <td>1940-04-25</td>\n",
       "    </tr>\n",
       "    <tr>\n",
       "      <th>2</th>\n",
       "      <td>Alfred</td>\n",
       "      <td>NaT</td>\n",
       "    </tr>\n",
       "  </tbody>\n",
       "</table>\n",
       "</div>"
      ],
      "text/plain": [
       "     name       born\n",
       "0  Alfred        NaT\n",
       "1  Batman 1940-04-25\n",
       "2  Alfred        NaT"
      ]
     },
     "execution_count": 66,
     "metadata": {},
     "output_type": "execute_result"
    }
   ],
   "source": [
    "df.dropna(how = 'all', axis=1)"
   ]
  },
  {
   "cell_type": "code",
   "execution_count": 67,
   "id": "72486c85-b1b4-4390-9fff-0ed48e25620c",
   "metadata": {},
   "outputs": [
    {
     "data": {
      "text/html": [
       "<div>\n",
       "<style scoped>\n",
       "    .dataframe tbody tr th:only-of-type {\n",
       "        vertical-align: middle;\n",
       "    }\n",
       "\n",
       "    .dataframe tbody tr th {\n",
       "        vertical-align: top;\n",
       "    }\n",
       "\n",
       "    .dataframe thead th {\n",
       "        text-align: right;\n",
       "    }\n",
       "</style>\n",
       "<table border=\"1\" class=\"dataframe\">\n",
       "  <thead>\n",
       "    <tr style=\"text-align: right;\">\n",
       "      <th></th>\n",
       "      <th>name</th>\n",
       "      <th>toy</th>\n",
       "      <th>born</th>\n",
       "    </tr>\n",
       "  </thead>\n",
       "  <tbody>\n",
       "    <tr>\n",
       "      <th>1</th>\n",
       "      <td>Batman</td>\n",
       "      <td>NaN</td>\n",
       "      <td>1940-04-25</td>\n",
       "    </tr>\n",
       "    <tr>\n",
       "      <th>2</th>\n",
       "      <td>Alfred</td>\n",
       "      <td>NaN</td>\n",
       "      <td>NaT</td>\n",
       "    </tr>\n",
       "  </tbody>\n",
       "</table>\n",
       "</div>"
      ],
      "text/plain": [
       "     name  toy       born\n",
       "1  Batman  NaN 1940-04-25\n",
       "2  Alfred  NaN        NaT"
      ]
     },
     "execution_count": 67,
     "metadata": {},
     "output_type": "execute_result"
    }
   ],
   "source": [
    "df.drop_duplicates(subset=['name'],keep= 'last')"
   ]
  },
  {
   "cell_type": "code",
   "execution_count": 68,
   "id": "a22bd670-daa9-4dab-8dbb-c7005f1cc272",
   "metadata": {},
   "outputs": [
    {
     "data": {
      "text/plain": [
       "(3, 3)"
      ]
     },
     "execution_count": 68,
     "metadata": {},
     "output_type": "execute_result"
    }
   ],
   "source": [
    " df.shape"
   ]
  },
  {
   "cell_type": "code",
   "execution_count": 69,
   "id": "000b3ab2-3a6a-4de3-835b-bd8e9374cc48",
   "metadata": {},
   "outputs": [
    {
     "name": "stdout",
     "output_type": "stream",
     "text": [
      "<class 'pandas.core.frame.DataFrame'>\n",
      "RangeIndex: 3 entries, 0 to 2\n",
      "Data columns (total 3 columns):\n",
      " #   Column  Non-Null Count  Dtype         \n",
      "---  ------  --------------  -----         \n",
      " 0   name    3 non-null      object        \n",
      " 1   toy     0 non-null      float64       \n",
      " 2   born    1 non-null      datetime64[ns]\n",
      "dtypes: datetime64[ns](1), float64(1), object(1)\n",
      "memory usage: 204.0+ bytes\n"
     ]
    }
   ],
   "source": [
    "df.info()"
   ]
  },
  {
   "cell_type": "code",
   "execution_count": 70,
   "id": "ebb182bf-c214-4fa8-a6f7-c46247efa9a4",
   "metadata": {},
   "outputs": [
    {
     "data": {
      "text/plain": [
       "toy\n",
       "NaN    3\n",
       "Name: count, dtype: int64"
      ]
     },
     "execution_count": 70,
     "metadata": {},
     "output_type": "execute_result"
    }
   ],
   "source": [
    "df['toy'].value_counts(dropna=False)"
   ]
  },
  {
   "cell_type": "code",
   "execution_count": 71,
   "id": "894408cd-e306-483e-a1a8-2cd107d47da7",
   "metadata": {},
   "outputs": [
    {
     "data": {
      "text/html": [
       "<div>\n",
       "<style scoped>\n",
       "    .dataframe tbody tr th:only-of-type {\n",
       "        vertical-align: middle;\n",
       "    }\n",
       "\n",
       "    .dataframe tbody tr th {\n",
       "        vertical-align: top;\n",
       "    }\n",
       "\n",
       "    .dataframe thead th {\n",
       "        text-align: right;\n",
       "    }\n",
       "</style>\n",
       "<table border=\"1\" class=\"dataframe\">\n",
       "  <thead>\n",
       "    <tr style=\"text-align: right;\">\n",
       "      <th></th>\n",
       "      <th>name</th>\n",
       "      <th>toy</th>\n",
       "      <th>born</th>\n",
       "    </tr>\n",
       "  </thead>\n",
       "  <tbody>\n",
       "    <tr>\n",
       "      <th>0</th>\n",
       "      <td>False</td>\n",
       "      <td>True</td>\n",
       "      <td>True</td>\n",
       "    </tr>\n",
       "    <tr>\n",
       "      <th>1</th>\n",
       "      <td>False</td>\n",
       "      <td>True</td>\n",
       "      <td>False</td>\n",
       "    </tr>\n",
       "    <tr>\n",
       "      <th>2</th>\n",
       "      <td>False</td>\n",
       "      <td>True</td>\n",
       "      <td>True</td>\n",
       "    </tr>\n",
       "  </tbody>\n",
       "</table>\n",
       "</div>"
      ],
      "text/plain": [
       "    name   toy   born\n",
       "0  False  True   True\n",
       "1  False  True  False\n",
       "2  False  True   True"
      ]
     },
     "execution_count": 71,
     "metadata": {},
     "output_type": "execute_result"
    }
   ],
   "source": [
    "df.isnull()"
   ]
  },
  {
   "cell_type": "code",
   "execution_count": 86,
   "id": "a8776ea3-351c-4c9a-ba99-95810bf8ee5f",
   "metadata": {},
   "outputs": [],
   "source": [
    "data= pd.read_excel('data.xlsx', sheet_name = 'Sheet2')"
   ]
  },
  {
   "cell_type": "code",
   "execution_count": 87,
   "id": "65ea2dd9-57c8-4849-b13c-851356b6eec7",
   "metadata": {},
   "outputs": [],
   "source": [
    "data.iloc[0, 0] = 34"
   ]
  },
  {
   "cell_type": "code",
   "execution_count": 88,
   "id": "80b91230-d7d3-4faa-a844-6e7a65551c2e",
   "metadata": {},
   "outputs": [
    {
     "data": {
      "text/html": [
       "<div>\n",
       "<style scoped>\n",
       "    .dataframe tbody tr th:only-of-type {\n",
       "        vertical-align: middle;\n",
       "    }\n",
       "\n",
       "    .dataframe tbody tr th {\n",
       "        vertical-align: top;\n",
       "    }\n",
       "\n",
       "    .dataframe thead th {\n",
       "        text-align: right;\n",
       "    }\n",
       "</style>\n",
       "<table border=\"1\" class=\"dataframe\">\n",
       "  <thead>\n",
       "    <tr style=\"text-align: right;\">\n",
       "      <th></th>\n",
       "      <th>Train No2</th>\n",
       "      <th>Speed2</th>\n",
       "      <th>city2</th>\n",
       "    </tr>\n",
       "  </thead>\n",
       "  <tbody>\n",
       "    <tr>\n",
       "      <th>0</th>\n",
       "      <td>34</td>\n",
       "      <td>50</td>\n",
       "      <td>rampur</td>\n",
       "    </tr>\n",
       "    <tr>\n",
       "      <th>1</th>\n",
       "      <td>23546</td>\n",
       "      <td>43</td>\n",
       "      <td>kolkata</td>\n",
       "    </tr>\n",
       "    <tr>\n",
       "      <th>2</th>\n",
       "      <td>76874</td>\n",
       "      <td>129</td>\n",
       "      <td>bareilly</td>\n",
       "    </tr>\n",
       "    <tr>\n",
       "      <th>3</th>\n",
       "      <td>34567</td>\n",
       "      <td>230</td>\n",
       "      <td>antartica</td>\n",
       "    </tr>\n",
       "  </tbody>\n",
       "</table>\n",
       "</div>"
      ],
      "text/plain": [
       "   Train No2  Speed2      city2\n",
       "0         34      50     rampur\n",
       "1      23546      43    kolkata\n",
       "2      76874     129   bareilly\n",
       "3      34567     230  antartica"
      ]
     },
     "execution_count": 88,
     "metadata": {},
     "output_type": "execute_result"
    }
   ],
   "source": [
    "data"
   ]
  },
  {
   "cell_type": "code",
   "execution_count": 90,
   "id": "e08ce771-1044-4245-b204-70e27e72e486",
   "metadata": {},
   "outputs": [],
   "source": [
    "data.to_excel('data.xlsx', sheet_name= 'Sheet2')"
   ]
  },
  {
   "cell_type": "code",
   "execution_count": null,
   "id": "dadf25de-0d73-4502-8ac2-3075f091595f",
   "metadata": {},
   "outputs": [],
   "source": []
  }
 ],
 "metadata": {
  "kernelspec": {
   "display_name": "Python 3 (ipykernel)",
   "language": "python",
   "name": "python3"
  },
  "language_info": {
   "codemirror_mode": {
    "name": "ipython",
    "version": 3
   },
   "file_extension": ".py",
   "mimetype": "text/x-python",
   "name": "python",
   "nbconvert_exporter": "python",
   "pygments_lexer": "ipython3",
   "version": "3.11.4"
  }
 },
 "nbformat": 4,
 "nbformat_minor": 5
}
